{
 "cells": [
  {
   "cell_type": "markdown",
   "metadata": {
    "colab_type": "text",
    "id": "E7ME-ag0hoDA"
   },
   "source": [
    "# Данные"
   ]
  },
  {
   "cell_type": "code",
   "execution_count": 0,
   "metadata": {
    "colab": {},
    "colab_type": "code",
    "id": "5QRXe3-DXuw7"
   },
   "outputs": [],
   "source": [
    "from string import punctuation\n",
    "import re\n",
    "punctuation = punctuation + '«»—…“”*№–'\n",
    "from nltk.corpus import stopwords\n",
    "from pymorphy2 import MorphAnalyzer\n",
    "morph = MorphAnalyzer()\n",
    "from statistics import mean \n",
    "import collections\n",
    "from sklearn.utils import shuffle\n",
    "from sklearn.model_selection import train_test_split\n",
    "from sklearn.metrics import *\n",
    "import matplotlib.pyplot as plt\n",
    "import seaborn as sns\n",
    "%matplotlib inline\n",
    "from sklearn.feature_extraction.text import *\n",
    "from sklearn.pipeline import Pipeline\n",
    "from sklearn.naive_bayes import MultinomialNB \n",
    "from sklearn.svm import LinearSVC"
   ]
  },
  {
   "cell_type": "code",
   "execution_count": 2,
   "metadata": {
    "colab": {
     "base_uri": "https://localhost:8080/",
     "height": 204
    },
    "colab_type": "code",
    "id": "qxZMU8CBK664",
    "outputId": "0fc60f9b-1f4a-48d6-cacf-8ebf71c6cab5"
   },
   "outputs": [
    {
     "data": {
      "text/html": [
       "<div>\n",
       "<style scoped>\n",
       "    .dataframe tbody tr th:only-of-type {\n",
       "        vertical-align: middle;\n",
       "    }\n",
       "\n",
       "    .dataframe tbody tr th {\n",
       "        vertical-align: top;\n",
       "    }\n",
       "\n",
       "    .dataframe thead th {\n",
       "        text-align: right;\n",
       "    }\n",
       "</style>\n",
       "<table border=\"1\" class=\"dataframe\">\n",
       "  <thead>\n",
       "    <tr style=\"text-align: right;\">\n",
       "      <th></th>\n",
       "      <th>text</th>\n",
       "      <th>source</th>\n",
       "    </tr>\n",
       "  </thead>\n",
       "  <tbody>\n",
       "    <tr>\n",
       "      <th>0</th>\n",
       "      <td>Начальник Главного оперативного управления Ген...</td>\n",
       "      <td>mil</td>\n",
       "    </tr>\n",
       "    <tr>\n",
       "      <th>1</th>\n",
       "      <td>Артиллерийские подразделения общевойскового об...</td>\n",
       "      <td>mil</td>\n",
       "    </tr>\n",
       "    <tr>\n",
       "      <th>2</th>\n",
       "      <td>Подразделения морской пехоты Каспийской флотил...</td>\n",
       "      <td>mil</td>\n",
       "    </tr>\n",
       "    <tr>\n",
       "      <th>3</th>\n",
       "      <td>Команды на всеармейских этапах конкурсов АрМИ-...</td>\n",
       "      <td>mil</td>\n",
       "    </tr>\n",
       "    <tr>\n",
       "      <th>4</th>\n",
       "      <td>На большом учебно-методическом командирском сб...</td>\n",
       "      <td>mil</td>\n",
       "    </tr>\n",
       "  </tbody>\n",
       "</table>\n",
       "</div>"
      ],
      "text/plain": [
       "                                                text source\n",
       "0  Начальник Главного оперативного управления Ген...    mil\n",
       "1  Артиллерийские подразделения общевойскового об...    mil\n",
       "2  Подразделения морской пехоты Каспийской флотил...    mil\n",
       "3  Команды на всеармейских этапах конкурсов АрМИ-...    mil\n",
       "4  На большом учебно-методическом командирском сб...    mil"
      ]
     },
     "execution_count": 2,
     "metadata": {
      "tags": []
     },
     "output_type": "execute_result"
    }
   ],
   "source": [
    "import pandas as pd\n",
    "df = pd.read_csv('vk_texts_with_sources.csv', usecols = ['text', 'source'])\n",
    "df.head()"
   ]
  },
  {
   "cell_type": "markdown",
   "metadata": {
    "colab_type": "text",
    "id": "dYNCAr17MFA3"
   },
   "source": [
    "# Домашнее задание\n",
    "\n",
    "В этом домашнем задании вы будете решать задачу тематической классификации. Даны тексты, опубликованные в нескольких пабликах VK.com, посвященных государственным и муниципальным службам. Формально задача заключается в том, чтобы по тексту ($d$) определить в каком паблике он опубликован, то есть, к какому классу $c$ он принадлежит. "
   ]
  },
  {
   "cell_type": "markdown",
   "metadata": {
    "colab_type": "text",
    "id": "e2EnN-U7MemU"
   },
   "source": [
    "## Задание 1 [1 балл]. Описательные статистики\n",
    "Посчитайте:\n",
    "* количество текстов и количество классов\n",
    "* количество слов (без лемматизации и с лемматизацией) в коллекции\n",
    "* среднюю длину текста в словах и символах\n",
    "* найдите 5 самых частых существительных в текстах каждого паблика \n",
    "\n",
    "*Рекомендуем использовать pandas для расчета описательных статистик.*"
   ]
  },
  {
   "cell_type": "code",
   "execution_count": 3,
   "metadata": {
    "colab": {
     "base_uri": "https://localhost:8080/",
     "height": 51
    },
    "colab_type": "code",
    "id": "IsNFr-3aXuxI",
    "outputId": "5277d94e-447c-43f2-f8a8-f884ac4a5dec"
   },
   "outputs": [
    {
     "name": "stdout",
     "output_type": "stream",
     "text": [
      "Количество текстов: 11526\n",
      "Количество классов: 4\n"
     ]
    }
   ],
   "source": [
    "df.dropna(inplace=True)\n",
    "df.reset_index(drop=True, inplace=True)\n",
    "print('Количество текстов:',len(df.text))\n",
    "print('Количество классов:',len(df.source.unique()))"
   ]
  },
  {
   "cell_type": "code",
   "execution_count": 4,
   "metadata": {
    "colab": {
     "base_uri": "https://localhost:8080/",
     "height": 34
    },
    "colab_type": "code",
    "id": "7yNkr2LIXuxN",
    "outputId": "c95b3f20-0a6b-4a48-da77-a53d67c4cfb5"
   },
   "outputs": [
    {
     "name": "stdout",
     "output_type": "stream",
     "text": [
      "Средняя длина текста в символах: 690.7630574353635\n"
     ]
    }
   ],
   "source": [
    "print(\"Средняя длина текста в символах:\",mean([len(x) for x in df.text]))"
   ]
  },
  {
   "cell_type": "code",
   "execution_count": 0,
   "metadata": {
    "colab": {},
    "colab_type": "code",
    "id": "ohbePZ42XuxR"
   },
   "outputs": [],
   "source": [
    "def remove_digits(text):\n",
    "    words = [word.lower().strip(punctuation) for word in text.split()]\n",
    "    words = [word for word in words if word not in stopwords.words('russian') and word != \"\"]\n",
    "    return words"
   ]
  },
  {
   "cell_type": "code",
   "execution_count": 0,
   "metadata": {
    "colab": {},
    "colab_type": "code",
    "id": "7ZllCSLiXuxU"
   },
   "outputs": [],
   "source": [
    "def preprocess_text(text):\n",
    "    text = text.str.replace(\"<br>\",'')\n",
    "    text = text.apply(lambda x: remove_digits(x))\n",
    "    return text"
   ]
  },
  {
   "cell_type": "code",
   "execution_count": 0,
   "metadata": {
    "colab": {},
    "colab_type": "code",
    "id": "JNsEK41uW8Pd"
   },
   "outputs": [],
   "source": [
    "def lemmatize_text(text):\n",
    "    lemmatized_text = [morph.parse(word)[0].normal_form for word in text]\n",
    "    return lemmatized_text"
   ]
  },
  {
   "cell_type": "code",
   "execution_count": 8,
   "metadata": {
    "colab": {
     "base_uri": "https://localhost:8080/",
     "height": 34
    },
    "colab_type": "code",
    "id": "6v5fdZV2XuxX",
    "outputId": "d622e984-bec8-46f6-d967-4e0da3b2b281"
   },
   "outputs": [
    {
     "name": "stdout",
     "output_type": "stream",
     "text": [
      "Среднее число слов в тексте: 83.35953496442825\n"
     ]
    }
   ],
   "source": [
    "import numpy as np\n",
    "text = df.text.str.replace(\"<br>\",'')\n",
    "word_lists = [[w.strip(punctuation) for w in text.split() if w.strip(punctuation) and w != \"\"] for text in text]\n",
    "avg_len = np.mean([len(text) for text in word_lists]) #среднее число слов в тексте\n",
    "print(\"Среднее число слов в тексте:\",avg_len)"
   ]
  },
  {
   "cell_type": "code",
   "execution_count": 0,
   "metadata": {
    "colab": {},
    "colab_type": "code",
    "id": "nCk5QaRQXuxb"
   },
   "outputs": [],
   "source": [
    "df.text = preprocess_text(df.text) ## предобработаем текст и разобьем его на слова"
   ]
  },
  {
   "cell_type": "code",
   "execution_count": 0,
   "metadata": {
    "colab": {},
    "colab_type": "code",
    "id": "AzPbX81jW8Pp"
   },
   "outputs": [],
   "source": [
    "df['lemmas'] = df.text.apply(lambda x: lemmatize_text(x)) ##сделаем отдельную колонку с лемматизированными словами"
   ]
  },
  {
   "cell_type": "code",
   "execution_count": 11,
   "metadata": {
    "colab": {
     "base_uri": "https://localhost:8080/",
     "height": 34
    },
    "colab_type": "code",
    "id": "Qfd4aGetW8Ps",
    "outputId": "51519c5a-c938-4549-e949-61b52350a945"
   },
   "outputs": [
    {
     "name": "stdout",
     "output_type": "stream",
     "text": [
      "Количество уникальных слов в лемматизированном тексте: 48169\n"
     ]
    }
   ],
   "source": [
    "unique_lemmatized_words = set()\n",
    "for word in df.lemmas:\n",
    "    unique_lemmatized_words.update(word)\n",
    "print(\"Количество уникальных слов в лемматизированном тексте:\",len(unique_lemmatized_words))"
   ]
  },
  {
   "cell_type": "code",
   "execution_count": 12,
   "metadata": {
    "colab": {
     "base_uri": "https://localhost:8080/",
     "height": 34
    },
    "colab_type": "code",
    "id": "-0hspxRkXuxf",
    "outputId": "b21c2ef3-8cab-40b5-d3c9-872a29fb346c"
   },
   "outputs": [
    {
     "name": "stdout",
     "output_type": "stream",
     "text": [
      "Количество уникальных слов: 93267\n"
     ]
    }
   ],
   "source": [
    "unique_words = set()\n",
    "for word in df.text:\n",
    "    unique_words.update(word)\n",
    "print(\"Количество уникальных слов:\",len(unique_words))"
   ]
  },
  {
   "cell_type": "markdown",
   "metadata": {
    "colab_type": "text",
    "id": "BmfzbiHPW8P1"
   },
   "source": [
    "__Найдем 5 самых частотных существительных по каждому классу__"
   ]
  },
  {
   "cell_type": "code",
   "execution_count": 13,
   "metadata": {
    "colab": {
     "base_uri": "https://localhost:8080/",
     "height": 153
    },
    "colab_type": "code",
    "id": "Mg_sEy-4Xuxu",
    "outputId": "34e41921-67cf-4593-84f2-43ffad22263d"
   },
   "outputs": [
    {
     "name": "stdout",
     "output_type": "stream",
     "text": [
      "mil [('военный', 2029), ('минобороны', 1354), ('россия', 1289), ('год', 1273), ('оборона', 914)]\n",
      "\n",
      "mchsgov [('мчс', 3489), ('россия', 1598), ('мчсроссия', 1218), ('спасатель', 613), ('год', 508)]\n",
      "\n",
      "russianpost [('почта', 3143), ('россия', 2585), ('год', 2075), ('отделение', 1583), ('письмо', 1452)]\n",
      "\n",
      "mospolice [('полиция', 5827), ('год', 5212), ('москва', 4160), ('мвд', 4154), ('россия', 3976)]\n",
      "\n"
     ]
    }
   ],
   "source": [
    "most_frequent = {} \n",
    "for source in df['source'].unique(): \n",
    "    arr = [] \n",
    "    for text in df[df['source'] == source]['lemmas']: \n",
    "        for word in text: \n",
    "            w = morph.parse(word)[0] \n",
    "            if w.tag.POS == 'NOUN': \n",
    "                arr.append(word) \n",
    "\n",
    "    count = collections.Counter(arr) \n",
    "    most_frequent[source] = count.most_common(1)[0][0] \n",
    "    print(source,count.most_common(5)) \n",
    "    print()"
   ]
  },
  {
   "cell_type": "code",
   "execution_count": 0,
   "metadata": {
    "colab": {},
    "colab_type": "code",
    "id": "mdQb-3TuXuxy"
   },
   "outputs": [],
   "source": [
    "df['source_text'] = df['text'].apply(lambda x: ' '.join(x)) ## сделаем отдельные колонки для предложений предобработанных\n",
    "df['lemmas_joined'] = df['lemmas'].apply(lambda x: ' '.join(x)) ## то же самое с лемматизированными словами"
   ]
  },
  {
   "cell_type": "code",
   "execution_count": 15,
   "metadata": {
    "colab": {
     "base_uri": "https://localhost:8080/",
     "height": 289
    },
    "colab_type": "code",
    "id": "ohbMV4jMXux5",
    "outputId": "0c9dd4bf-d285-4136-865c-f0c1cf2a7436"
   },
   "outputs": [
    {
     "data": {
      "text/html": [
       "<div>\n",
       "<style scoped>\n",
       "    .dataframe tbody tr th:only-of-type {\n",
       "        vertical-align: middle;\n",
       "    }\n",
       "\n",
       "    .dataframe tbody tr th {\n",
       "        vertical-align: top;\n",
       "    }\n",
       "\n",
       "    .dataframe thead th {\n",
       "        text-align: right;\n",
       "    }\n",
       "</style>\n",
       "<table border=\"1\" class=\"dataframe\">\n",
       "  <thead>\n",
       "    <tr style=\"text-align: right;\">\n",
       "      <th></th>\n",
       "      <th>text</th>\n",
       "      <th>source</th>\n",
       "      <th>lemmas</th>\n",
       "      <th>source_text</th>\n",
       "      <th>lemmas_joined</th>\n",
       "    </tr>\n",
       "  </thead>\n",
       "  <tbody>\n",
       "    <tr>\n",
       "      <th>715</th>\n",
       "      <td>[инженерные, подразделения, южного, военного, ...</td>\n",
       "      <td>mil</td>\n",
       "      <td>[инженерный, подразделение, южный, военный, ок...</td>\n",
       "      <td>инженерные подразделения южного военного округ...</td>\n",
       "      <td>инженерный подразделение южный военный округа ...</td>\n",
       "    </tr>\n",
       "    <tr>\n",
       "      <th>8059</th>\n",
       "      <td>[десятку, самых, дорогих, марок, мира, входит,...</td>\n",
       "      <td>russianpost</td>\n",
       "      <td>[десятка, самый, дорогой, марка, мир, входить,...</td>\n",
       "      <td>десятку самых дорогих марок мира входит марка ...</td>\n",
       "      <td>десятка самый дорогой марка мир входить марка ...</td>\n",
       "    </tr>\n",
       "    <tr>\n",
       "      <th>3564</th>\n",
       "      <td>[буднимчс, мчс, мчсроссии, прожить, одну, жизн...</td>\n",
       "      <td>mchsgov</td>\n",
       "      <td>[буднимчс, мчс, мчсроссия, прожить, один, жизн...</td>\n",
       "      <td>буднимчс мчс мчсроссии прожить одну жизнь спас...</td>\n",
       "      <td>буднимчс мчс мчсроссия прожить один жизнь спас...</td>\n",
       "    </tr>\n",
       "    <tr>\n",
       "      <th>5877</th>\n",
       "      <td>[фактмчсв, москве, появится, улица, спасателей...</td>\n",
       "      <td>mchsgov</td>\n",
       "      <td>[фактмчсть, москва, появиться, улица, спасател...</td>\n",
       "      <td>фактмчсв москве появится улица спасателей подр...</td>\n",
       "      <td>фактмчсть москва появиться улица спасатель дро...</td>\n",
       "    </tr>\n",
       "    <tr>\n",
       "      <th>11476</th>\n",
       "      <td>[ювао, приехал, автобус-тренажер, школа, дорож...</td>\n",
       "      <td>mospolice</td>\n",
       "      <td>[ювао, приехать, автобус-тренажёр, школа, доро...</td>\n",
       "      <td>ювао приехал автобус-тренажер школа дорожной б...</td>\n",
       "      <td>ювао приехать автобус-тренажёр школа дорожный ...</td>\n",
       "    </tr>\n",
       "  </tbody>\n",
       "</table>\n",
       "</div>"
      ],
      "text/plain": [
       "                                                    text  ...                                      lemmas_joined\n",
       "715    [инженерные, подразделения, южного, военного, ...  ...  инженерный подразделение южный военный округа ...\n",
       "8059   [десятку, самых, дорогих, марок, мира, входит,...  ...  десятка самый дорогой марка мир входить марка ...\n",
       "3564   [буднимчс, мчс, мчсроссии, прожить, одну, жизн...  ...  буднимчс мчс мчсроссия прожить один жизнь спас...\n",
       "5877   [фактмчсв, москве, появится, улица, спасателей...  ...  фактмчсть москва появиться улица спасатель дро...\n",
       "11476  [ювао, приехал, автобус-тренажер, школа, дорож...  ...  ювао приехать автобус-тренажёр школа дорожный ...\n",
       "\n",
       "[5 rows x 5 columns]"
      ]
     },
     "execution_count": 15,
     "metadata": {
      "tags": []
     },
     "output_type": "execute_result"
    }
   ],
   "source": [
    "df = shuffle(df) ## перемешаем данные, чтобы избежать случаев с какой-то упорядоченностью данных\n",
    "\n",
    "train, test = train_test_split(df, test_size=0.2) # разобьем данные на тренировочную и тестовую выборки: 0.8 к 0.2\n",
    "train.head()"
   ]
  },
  {
   "cell_type": "markdown",
   "metadata": {
    "colab_type": "text",
    "id": "fTJPlulvQSqQ"
   },
   "source": [
    "Разделите коллекцию текстов на обучающую и тестовую части. "
   ]
  },
  {
   "cell_type": "markdown",
   "metadata": {
    "colab_type": "text",
    "id": "9yCVYfbpNhXd"
   },
   "source": [
    " ## Задание 2 [2 балла]. Классификация по правилам\n",
    " \n",
    " * Разработайте несколько правил вида \"Если встречается слово $w$, то текст относится к паблику $c$\"\n",
    " * Посчитайте, какую точность, полноту, $f$-меру и $accuracy$ вы получаете при классификации по правилам\n",
    " * Получилось ли у вас придумать правило, которое никогда не ошибается?"
   ]
  },
  {
   "cell_type": "markdown",
   "metadata": {
    "colab_type": "text",
    "id": "U52_lNk-W8QJ"
   },
   "source": [
    "___Сделаем такое правило: если встречаем самое частотное существительное по тексту (которые мы определили для каждого класса ранее), то относим текст к этому классу___"
   ]
  },
  {
   "cell_type": "code",
   "execution_count": 0,
   "metadata": {
    "colab": {},
    "colab_type": "code",
    "id": "v_zgHos0Xux_"
   },
   "outputs": [],
   "source": [
    "import random\n",
    "\n",
    "def rule_classifier1(text):\n",
    "    if 'полиция' in text:\n",
    "        return 'mospolice'\n",
    "    elif 'мчс' in text:\n",
    "        return 'mchsgov'\n",
    "    elif 'почта' in text:\n",
    "        return 'russianpost'\n",
    "    elif 'военный' in text:\n",
    "        return 'mil'\n",
    "    else:\n",
    "        return random.choice(['mchsgov', 'mospolice', 'russianpost', 'mil']) "
   ]
  },
  {
   "cell_type": "code",
   "execution_count": 17,
   "metadata": {
    "colab": {
     "base_uri": "https://localhost:8080/",
     "height": 221
    },
    "colab_type": "code",
    "id": "VLci9hZ1XuyC",
    "outputId": "b07fce59-9291-43f5-9f20-ed25a169f080"
   },
   "outputs": [
    {
     "name": "stdout",
     "output_type": "stream",
     "text": [
      "              precision    recall  f1-score   support\n",
      "\n",
      "     mchsgov       0.76      0.84      0.80       626\n",
      "         mil       0.75      0.49      0.59       577\n",
      "   mospolice       0.72      0.97      0.82       583\n",
      " russianpost       0.69      0.62      0.65       520\n",
      "\n",
      "    accuracy                           0.73      2306\n",
      "   macro avg       0.73      0.73      0.72      2306\n",
      "weighted avg       0.73      0.73      0.72      2306\n",
      "\n",
      "Accuracy:   0.73\n"
     ]
    }
   ],
   "source": [
    "predicted = []\n",
    "for text in test.lemmas:\n",
    "    predicted_class = rule_classifier1(text)\n",
    "    predicted.append(predicted_class)\n",
    "trueclasses = test['source'].tolist()\n",
    "print(classification_report(trueclasses, predicted))\n",
    "print(\"Accuracy: {0:6.2f}\".format(accuracy_score(trueclasses, predicted)))"
   ]
  },
  {
   "cell_type": "markdown",
   "metadata": {
    "colab_type": "text",
    "id": "VCPo3EnBW8QS"
   },
   "source": [
    "__Даже при таком простом правиле доля правильные ответов получилась достаточно высокой. Также я пробовал сочетания самых частых слов, это не повысило качество. Придумать правило, которое никогда не ошибается (accuracy = 1.0) вручную не вышло.__"
   ]
  },
  {
   "cell_type": "markdown",
   "metadata": {
    "colab_type": "text",
    "id": "22tJKQnaOjie"
   },
   "source": [
    "## Задание 3 [3 балла]. Baseline\n",
    "Используйте стандартный ```sklearn.pipeline``` для классификации текстов: \n",
    "* векторизация \n",
    "* $tf-idf$ взвешивание \n",
    "* ваш любимый метод классификации.\n",
    "\n",
    "\n",
    "Оцените результаты классификации по стандартным мерам качества и проведите анализ ошибок. Для этого рекомендуем визуализировать матрицу ошибок (confusion matrix). "
   ]
  },
  {
   "cell_type": "markdown",
   "metadata": {
    "colab_type": "text",
    "id": "Veblz8nhW8QT"
   },
   "source": [
    "___Преобразуем слова в векторы, сделаем tf-idf для слов в векторах  и классифицируем тексты алгоритмом SVM___"
   ]
  },
  {
   "cell_type": "code",
   "execution_count": 0,
   "metadata": {
    "colab": {},
    "colab_type": "code",
    "id": "zZ5agsMFXuyN"
   },
   "outputs": [],
   "source": [
    "vectorizer = CountVectorizer()\n",
    "tf_idf = TfidfTransformer()\n",
    "classifier = LinearSVC()\n",
    "\n",
    "clf = Pipeline([\n",
    "    ('vect', vectorizer),\n",
    "    ('tf-idf', tf_idf),\n",
    "    ('clf', classifier)\n",
    "])"
   ]
  },
  {
   "cell_type": "code",
   "execution_count": 19,
   "metadata": {
    "colab": {
     "base_uri": "https://localhost:8080/",
     "height": 221
    },
    "colab_type": "code",
    "id": "hmGeiui-XuyT",
    "outputId": "ce5e23fb-e55f-4ade-901f-b06948dbad24"
   },
   "outputs": [
    {
     "name": "stdout",
     "output_type": "stream",
     "text": [
      "              precision    recall  f1-score   support\n",
      "\n",
      "     mchsgov       0.98      0.96      0.97       626\n",
      "         mil       0.98      0.98      0.98       577\n",
      "   mospolice       0.98      0.99      0.98       583\n",
      " russianpost       0.95      0.97      0.96       520\n",
      "\n",
      "    accuracy                           0.97      2306\n",
      "   macro avg       0.97      0.97      0.97      2306\n",
      "weighted avg       0.97      0.97      0.97      2306\n",
      "\n",
      "Accuracy:  0.974\n"
     ]
    }
   ],
   "source": [
    "clf.fit(train.source_text, train.source)\n",
    "predictions = clf.predict(test['source_text'])\n",
    "print(classification_report(test['source'], predictions))\n",
    "print(\"Accuracy: {0:6.3f}\".format(accuracy_score(test['source'], predictions)))"
   ]
  },
  {
   "cell_type": "code",
   "execution_count": 20,
   "metadata": {
    "colab": {
     "base_uri": "https://localhost:8080/",
     "height": 338
    },
    "colab_type": "code",
    "id": "Al-okvUmXuyZ",
    "outputId": "cf364415-6358-4955-a959-c48359767ee8"
   },
   "outputs": [
    {
     "data": {
      "image/png": "[encoded data removed]",
      "text/plain": [
       "<Figure size 360x360 with 1 Axes>"
      ]
     },
     "metadata": {
      "tags": []
     },
     "output_type": "display_data"
    }
   ],
   "source": [
    "matrix = confusion_matrix(test.source, predictions)\n",
    "\n",
    "plt.figure(figsize = (5,5))\n",
    "sns.heatmap(data=matrix, annot=True, fmt=\"d\", cbar=False, xticklabels=clf.classes_, yticklabels=clf.classes_, cmap=\"PuRd\")\n",
    "plt.title(\"Confusion matrix\")\n",
    "plt.show()"
   ]
  },
  {
   "cell_type": "markdown",
   "metadata": {
    "colab_type": "text",
    "id": "DG8So_OVW8Qe"
   },
   "source": [
    "__После применения данного пайплайна качество модели очень высокое (accuracy = 0.974). По confusion matrix можно увидеть распределение слов по классам. Видно, самая большая ошибка (20) - это отнесение текста к почте, хотя оно относится к мчс__"
   ]
  },
  {
   "cell_type": "markdown",
   "metadata": {
    "colab_type": "text",
    "id": "I4m1rDQ3PAqO"
   },
   "source": [
    "## Задание 4 [2 балла]. Снижение размерности\n",
    "Добавьте в ваш ```sklearn.pipeline```  методы снижения размерности:  PCA / LSI / LSA / LDA / другое. Какие методы классификации разумно использовать после снижения размерности? Как изменились результаты классификации после добавления нового шага?"
   ]
  },
  {
   "cell_type": "markdown",
   "metadata": {
    "colab_type": "text",
    "id": "MSfBEZp-W8Qg"
   },
   "source": [
    "__Возьмем LSI, который использует SVD (singular value decomposition) для понижения размерности. SVM является хорошим оптимальным классификатором, поэтому будем также использовать его после понижения размерности__ "
   ]
  },
  {
   "cell_type": "code",
   "execution_count": 21,
   "metadata": {
    "colab": {
     "base_uri": "https://localhost:8080/",
     "height": 221
    },
    "colab_type": "code",
    "id": "DA1CerzKXuyd",
    "outputId": "0415bc26-a2f7-4b18-dca2-4334a3f09b3f"
   },
   "outputs": [
    {
     "name": "stdout",
     "output_type": "stream",
     "text": [
      "              precision    recall  f1-score   support\n",
      "\n",
      "     mchsgov       0.98      0.95      0.96       626\n",
      "         mil       0.98      0.97      0.98       577\n",
      "   mospolice       0.98      0.98      0.98       583\n",
      " russianpost       0.93      0.96      0.95       520\n",
      "\n",
      "    accuracy                           0.97      2306\n",
      "   macro avg       0.97      0.97      0.97      2306\n",
      "weighted avg       0.97      0.97      0.97      2306\n",
      "\n",
      "Accuracy:  0.967\n"
     ]
    }
   ],
   "source": [
    "from sklearn.decomposition import TruncatedSVD\n",
    "\n",
    "vectorizer = CountVectorizer() \n",
    "tfidf = TfidfTransformer()\n",
    "svd = TruncatedSVD(n_components=100)\n",
    "classifier = LinearSVC() \n",
    "\n",
    "clf_svd = Pipeline([\n",
    "    ('vect', vectorizer),\n",
    "    ('tfidf', tfidf),\n",
    "    ('svd', svd),\n",
    "    ('clf', classifier)\n",
    "])\n",
    "\n",
    "clf_svd.fit(train.source_text, train.source)\n",
    "pred = clf_svd.predict(test['source_text'])\n",
    "print(classification_report(test['source'], pred))\n",
    "print(\"Accuracy: {0:6.3f}\".format(accuracy_score(test['source'], pred)))"
   ]
  },
  {
   "cell_type": "code",
   "execution_count": 22,
   "metadata": {
    "colab": {
     "base_uri": "https://localhost:8080/",
     "height": 338
    },
    "colab_type": "code",
    "id": "o8chGQYKXuyh",
    "outputId": "ba7f17c5-9f84-455c-b303-fc3f7fd6340e"
   },
   "outputs": [
    {
     "data": {
      "image/png": "[encoded data removed]",
      "text/plain": [
       "<Figure size 360x360 with 1 Axes>"
      ]
     },
     "metadata": {
      "tags": []
     },
     "output_type": "display_data"
    }
   ],
   "source": [
    "matrix = confusion_matrix(test['source'], pred)\n",
    "\n",
    "plt.figure(figsize = (5,5))\n",
    "sns.heatmap(data=matrix, annot=True, fmt=\"d\", cbar=False, xticklabels=clf_svd.classes_,\n",
    "            yticklabels=clf_svd.classes_, cmap=\"PuRd\")\n",
    "plt.title(\"Confusion matrix\")\n",
    "plt.show()"
   ]
  },
  {
   "cell_type": "markdown",
   "metadata": {
    "colab_type": "text",
    "id": "3yjgGuhaW8Qo"
   },
   "source": [
    "___Как видно, понижение размерности не улучшило качество модели, а даже ухудшило его (0.967 vs 0.974). Возможно, это потому, что данных итак не такое большое количество и методы понижения размерности только портят модель___"
   ]
  },
  {
   "cell_type": "markdown",
   "metadata": {
    "colab_type": "text",
    "id": "7vVPaaVwPVwg"
   },
   "source": [
    "## Задание 5 [1 балл]. Лемматизация\n",
    "Посмотрите, как влияет лемматизация на качество классификации. Как изменится качество классификации, если вы используете ```CountVectorizer``` на словах или $n$-граммах на лемматизированных текстах?"
   ]
  },
  {
   "cell_type": "code",
   "execution_count": 23,
   "metadata": {
    "colab": {
     "base_uri": "https://localhost:8080/",
     "height": 221
    },
    "colab_type": "code",
    "id": "dY9llOK4Xuym",
    "outputId": "8c8d603c-fc0d-4855-f3e1-b154370ecbb0"
   },
   "outputs": [
    {
     "name": "stdout",
     "output_type": "stream",
     "text": [
      "              precision    recall  f1-score   support\n",
      "\n",
      "     mchsgov       0.97      0.96      0.97       626\n",
      "         mil       0.99      0.98      0.98       577\n",
      "   mospolice       0.98      0.99      0.98       583\n",
      " russianpost       0.96      0.97      0.96       520\n",
      "\n",
      "    accuracy                           0.97      2306\n",
      "   macro avg       0.97      0.97      0.97      2306\n",
      "weighted avg       0.97      0.97      0.97      2306\n",
      "\n",
      "Accuracy:  0.974\n"
     ]
    }
   ],
   "source": [
    "vectorizer = CountVectorizer()\n",
    "tf_idf = TfidfTransformer()\n",
    "classifier = LinearSVC()\n",
    "\n",
    "clf = Pipeline([\n",
    "    ('vect', vectorizer),\n",
    "    ('tf-idf', tf_idf),\n",
    "    ('clf', classifier)\n",
    "])\n",
    "\n",
    "clf.fit(train.lemmas_joined, train.source)\n",
    "predictions = clf.predict(test['lemmas_joined'])\n",
    "print(classification_report(test['source'], predictions))\n",
    "print(\"Accuracy: {0:6.3f}\".format(accuracy_score(test['source'], predictions)))"
   ]
  },
  {
   "cell_type": "code",
   "execution_count": 24,
   "metadata": {
    "colab": {
     "base_uri": "https://localhost:8080/",
     "height": 338
    },
    "colab_type": "code",
    "id": "YVh6nLuMXuyq",
    "outputId": "ca872a4f-e7d4-4801-f12d-fb65d9c9e93e"
   },
   "outputs": [
    {
     "data": {
      "image/png": "[encoded data removed]",
      "text/plain": [
       "<Figure size 360x360 with 1 Axes>"
      ]
     },
     "metadata": {
      "tags": []
     },
     "output_type": "display_data"
    }
   ],
   "source": [
    "matrix = confusion_matrix(test.source, predictions)\n",
    "\n",
    "plt.figure(figsize = (5,5))\n",
    "sns.heatmap(data=matrix, annot=True, fmt=\"d\", cbar=False, xticklabels=clf.classes_, yticklabels=clf.classes_, cmap=\"PuRd\")\n",
    "plt.title(\"Confusion matrix\")\n",
    "plt.show()"
   ]
  },
  {
   "cell_type": "markdown",
   "metadata": {
    "colab_type": "text",
    "id": "bfInggN2W8Q0"
   },
   "source": [
    "___Лемматизация не дала сильного улучшения модели судя по accuracy. Confusion matrix также стала лучше для одних классов, но хуже для других___"
   ]
  },
  {
   "cell_type": "markdown",
   "metadata": {
    "colab_type": "text",
    "id": "bX541uLrXuyt"
   },
   "source": [
    "### Добавим n-gramms к лемматизированному тексту"
   ]
  },
  {
   "cell_type": "code",
   "execution_count": 25,
   "metadata": {
    "colab": {
     "base_uri": "https://localhost:8080/",
     "height": 221
    },
    "colab_type": "code",
    "id": "rZd-uZGzXuyu",
    "outputId": "9a3b1b15-d1f1-431f-98f2-cec7660039b3"
   },
   "outputs": [
    {
     "name": "stdout",
     "output_type": "stream",
     "text": [
      "              precision    recall  f1-score   support\n",
      "\n",
      "     mchsgov       0.98      0.96      0.97       626\n",
      "         mil       0.99      0.98      0.98       577\n",
      "   mospolice       0.98      0.99      0.98       583\n",
      " russianpost       0.96      0.97      0.96       520\n",
      "\n",
      "    accuracy                           0.98      2306\n",
      "   macro avg       0.97      0.98      0.98      2306\n",
      "weighted avg       0.98      0.98      0.98      2306\n",
      "\n",
      "Accuracy:  0.975\n"
     ]
    }
   ],
   "source": [
    "vectorizer = CountVectorizer(ngram_range=(1,3))\n",
    "tf_idf = TfidfTransformer()\n",
    "classifier = LinearSVC()\n",
    "\n",
    "clf = Pipeline([\n",
    "    ('vect', vectorizer),\n",
    "    ('tf-idf', tf_idf),\n",
    "    ('clf', classifier)\n",
    "])\n",
    "\n",
    "clf.fit(train.lemmas_joined, train.source)\n",
    "predictions = clf.predict(test['lemmas_joined'])\n",
    "print(classification_report(test['source'], predictions))\n",
    "print(\"Accuracy: {0:6.3f}\".format(accuracy_score(test['source'], predictions)))"
   ]
  },
  {
   "cell_type": "code",
   "execution_count": 26,
   "metadata": {
    "colab": {
     "base_uri": "https://localhost:8080/",
     "height": 338
    },
    "colab_type": "code",
    "id": "uLuJ7xEFXuyx",
    "outputId": "f726e896-0024-4bb7-9f55-f8afbdc93aaa"
   },
   "outputs": [
    {
     "data": {
      "image/png": "[encoded data removed]",
      "text/plain": [
       "<Figure size 360x360 with 1 Axes>"
      ]
     },
     "metadata": {
      "tags": []
     },
     "output_type": "display_data"
    }
   ],
   "source": [
    "matrix = confusion_matrix(test.source, predictions)\n",
    "\n",
    "plt.figure(figsize = (5,5))\n",
    "sns.heatmap(data=matrix, annot=True, fmt=\"d\", cbar=False, xticklabels=clf.classes_, yticklabels=clf.classes_, cmap=\"PuRd\")\n",
    "plt.title(\"Confusion matrix\")\n",
    "plt.show()"
   ]
  },
  {
   "cell_type": "markdown",
   "metadata": {
    "colab_type": "text",
    "id": "7TyVrLZ6W8Q_"
   },
   "source": [
    "__Добавление n_grams увеличило немножко качество (с 0.974 до 0.975), так как мы стали смотреть не одно предыдущее слово для определения вероятности текущего, а несколько предыдущих слов, то есть больше учитывать контекст__"
   ]
  },
  {
   "cell_type": "markdown",
   "metadata": {
    "colab_type": "text",
    "id": "cdakRHahQp-l"
   },
   "source": [
    "## Задание 6 [3 балла]. Continious bag of words\n",
    "Для baseline решения мы использовали обычное представление текста в виде мешка слов. Попробуйте использовать другие модели представления текста – например, в виде непрерывного мешка слов, то есть, в виде набора эмбеддингов. Для того, чтобы получить вектор текста попробуйте:\n",
    "* усреднить все эмбеддинги слов, входящих в этот текст\n",
    "* усреднить все эмбеддинги слов, входящих в этот текст с $tf-idf$ весами\n",
    "* использовать любую модель эмбеддинга документа.\n",
    "\n",
    "Используйте любую модель эмбеддингов по вашему вкусу. \n",
    "\n",
    "\n",
    "Оцените результаты классификации по стандартным мерам качества и проведите анализ ошибок. Для этого рекомендуем визуализировать матрицу ошибок (confusion matrix). "
   ]
  },
  {
   "cell_type": "code",
   "execution_count": 27,
   "metadata": {
    "colab": {
     "base_uri": "https://localhost:8080/",
     "height": 71
    },
    "colab_type": "code",
    "id": "-TDaQeHjXuy3",
    "outputId": "567cabf2-e865-4329-a1c6-6945cfd73f3d"
   },
   "outputs": [
    {
     "name": "stderr",
     "output_type": "stream",
     "text": [
      "/usr/local/lib/python3.6/dist-packages/ipykernel_launcher.py:11: DeprecationWarning: Call to deprecated `__getitem__` (Method will be removed in 4.0.0, use self.wv.__getitem__() instead).\n",
      "  # This is added back by InteractiveShellApp.init_path()\n"
     ]
    }
   ],
   "source": [
    "from gensim.models import Word2Vec \n",
    "\n",
    "model = Word2Vec(df.lemmas, size=200, window=10, min_count=10, workers=10) \n",
    " \n",
    "def get_matrix(text, model): \n",
    "    vector = np.zeros(shape=model.vector_size) \n",
    "    counter = 0 \n",
    "    for word in text.split(): \n",
    "        if word in model.wv.vocab: \n",
    "            try: \n",
    "                vector = np.add(vector, model[word]) \n",
    "                counter += 1 \n",
    "            except KeyError:\n",
    "                pass\n",
    "    if counter == 0: \n",
    "        return vector.squeeze() \n",
    "    return (vector / counter).squeeze() \n",
    "\n",
    "train_vectors = [get_matrix(text, model) for text in train.lemmas_joined] \n",
    "test_vectors = [get_matrix(text, model) for text in test.lemmas_joined]"
   ]
  },
  {
   "cell_type": "code",
   "execution_count": 28,
   "metadata": {
    "colab": {
     "base_uri": "https://localhost:8080/",
     "height": 255
    },
    "colab_type": "code",
    "id": "qOHPLXiyXuy6",
    "outputId": "0481bff3-d871-4c69-e279-6aad1a3399fe"
   },
   "outputs": [
    {
     "name": "stdout",
     "output_type": "stream",
     "text": [
      "              precision    recall  f1-score   support\n",
      "\n",
      "     mchsgov       0.97      0.94      0.96       626\n",
      "         mil       0.98      0.97      0.97       577\n",
      "   mospolice       0.96      0.98      0.97       583\n",
      " russianpost       0.93      0.96      0.95       520\n",
      "\n",
      "    accuracy                           0.96      2306\n",
      "   macro avg       0.96      0.96      0.96      2306\n",
      "weighted avg       0.96      0.96      0.96      2306\n",
      "\n",
      "Accuracy:  0.961\n"
     ]
    },
    {
     "name": "stderr",
     "output_type": "stream",
     "text": [
      "/usr/local/lib/python3.6/dist-packages/sklearn/svm/base.py:929: ConvergenceWarning: Liblinear failed to converge, increase the number of iterations.\n",
      "  \"the number of iterations.\", ConvergenceWarning)\n"
     ]
    }
   ],
   "source": [
    "clf = LinearSVC()\n",
    "clf.fit(train_vectors, train.source)\n",
    "pred = clf.predict(test_vectors)\n",
    "\n",
    "print(classification_report(test['source'], pred))\n",
    "print(\"Accuracy: {0:6.3f}\".format(accuracy_score(test['source'], pred)))"
   ]
  },
  {
   "cell_type": "code",
   "execution_count": 29,
   "metadata": {
    "colab": {
     "base_uri": "https://localhost:8080/",
     "height": 338
    },
    "colab_type": "code",
    "id": "hnchPZQ_Xuy-",
    "outputId": "8634069a-4567-4095-fd10-2cb4b08061c2"
   },
   "outputs": [
    {
     "data": {
      "image/png": "[encoded data removed]",
      "text/plain": [
       "<Figure size 360x360 with 1 Axes>"
      ]
     },
     "metadata": {
      "tags": []
     },
     "output_type": "display_data"
    }
   ],
   "source": [
    "matrix = confusion_matrix(test.source, pred)\n",
    "\n",
    "plt.figure(figsize = (5,5))\n",
    "sns.heatmap(data=matrix, annot=True, fmt=\"d\", cbar=False, xticklabels=clf.classes_, yticklabels=clf.classes_, cmap=\"PuRd\")\n",
    "plt.title(\"Confusion matrix\")\n",
    "plt.show()"
   ]
  },
  {
   "cell_type": "markdown",
   "metadata": {
    "colab_type": "text",
    "id": "fYSBozrmXuzB"
   },
   "source": [
    "### Добавим tf-idf"
   ]
  },
  {
   "cell_type": "code",
   "execution_count": 30,
   "metadata": {
    "colab": {
     "base_uri": "https://localhost:8080/",
     "height": 221
    },
    "colab_type": "code",
    "id": "htar4-bLXuzC",
    "outputId": "43470ac1-f7e3-4455-9005-f39877752b46"
   },
   "outputs": [
    {
     "name": "stdout",
     "output_type": "stream",
     "text": [
      "              precision    recall  f1-score   support\n",
      "\n",
      "     mchsgov       0.96      0.93      0.95       626\n",
      "         mil       0.97      0.97      0.97       577\n",
      "   mospolice       0.95      0.99      0.97       583\n",
      " russianpost       0.95      0.95      0.95       520\n",
      "\n",
      "    accuracy                           0.96      2306\n",
      "   macro avg       0.96      0.96      0.96      2306\n",
      "weighted avg       0.96      0.96      0.96      2306\n",
      "\n",
      "Accuracy:  0.959\n"
     ]
    }
   ],
   "source": [
    "tf_idf = TfidfTransformer()\n",
    "\n",
    "tf_idf_train = tf_idf.fit_transform(train_vectors)\n",
    "tf_idf_test = tf_idf.fit_transform(test_vectors)\n",
    "\n",
    "clf = LinearSVC()\n",
    "clf.fit(tf_idf_train, train.source)\n",
    "pred = clf.predict(tf_idf_test)\n",
    "print(classification_report(test['source'], pred))\n",
    "print(\"Accuracy: {0:6.3f}\".format(accuracy_score(test['source'], pred)))"
   ]
  },
  {
   "cell_type": "code",
   "execution_count": 31,
   "metadata": {
    "colab": {
     "base_uri": "https://localhost:8080/",
     "height": 338
    },
    "colab_type": "code",
    "id": "COCrvSSRXuzF",
    "outputId": "775f08cd-5629-4d4e-bcd2-1514b8685817"
   },
   "outputs": [
    {
     "data": {
      "image/png": "[encoded data removed]",
      "text/plain": [
       "<Figure size 360x360 with 1 Axes>"
      ]
     },
     "metadata": {
      "tags": []
     },
     "output_type": "display_data"
    }
   ],
   "source": [
    "matrix = confusion_matrix(test.source, pred)\n",
    "\n",
    "plt.figure(figsize = (5,5))\n",
    "sns.heatmap(data=matrix, annot=True, fmt=\"d\", cbar=False, xticklabels=clf.classes_, yticklabels=clf.classes_, cmap=\"PuRd\")\n",
    "plt.title(\"Confusion matrix\")\n",
    "plt.show()"
   ]
  },
  {
   "cell_type": "markdown",
   "metadata": {
    "colab_type": "text",
    "id": "ly7VhFYhZgdZ"
   },
   "source": [
    "___Continuous bag of words только ухудшил качество модели.Возможно, это связано с тем, что мы не брали предобученные эмбеддинги, а сами их сделали___"
   ]
  },
  {
   "cell_type": "markdown",
   "metadata": {
    "colab_type": "text",
    "id": "uyVQ5Gm7Qzcz"
   },
   "source": [
    "## Задание 7 [2 балла]. fastText\n",
    "\n",
    "Используйте ```fastText``` в режиме классификации. Оцените результаты классификации по стандартным мерам качества и проведите анализ ошибок. Для этого рекомендуем визуализировать матрицу ошибок (confusion matrix). "
   ]
  },
  {
   "cell_type": "code",
   "execution_count": 32,
   "metadata": {
    "colab": {
     "base_uri": "https://localhost:8080/",
     "height": 68
    },
    "colab_type": "code",
    "id": "sTzGjWYyXuzK",
    "outputId": "96f08911-cfc2-40b4-dd3d-4e142498bb18"
   },
   "outputs": [
    {
     "name": "stdout",
     "output_type": "stream",
     "text": [
      "Requirement already satisfied: fasttext in /usr/local/lib/python3.6/dist-packages (0.8.3)\n",
      "Requirement already satisfied: numpy>=1 in /usr/local/lib/python3.6/dist-packages (from fasttext) (1.16.4)\n",
      "Requirement already satisfied: future in /usr/local/lib/python3.6/dist-packages (from fasttext) (0.16.0)\n"
     ]
    }
   ],
   "source": [
    "!pip install fasttext\n",
    "import fasttext"
   ]
  },
  {
   "cell_type": "code",
   "execution_count": 0,
   "metadata": {
    "colab": {},
    "colab_type": "code",
    "id": "VdyPlo8rXuzO"
   },
   "outputs": [],
   "source": [
    "with open('fasttext.txt', 'w', encoding = 'utf-8') as f: \n",
    "    for i in train.index: \n",
    "        text = str(train.lemmas_joined[i]) \n",
    "        tag = str(train.source[i]) \n",
    "        f.write(text + ' ' + 'label' + tag + '\\n')"
   ]
  },
  {
   "cell_type": "code",
   "execution_count": 34,
   "metadata": {
    "colab": {
     "base_uri": "https://localhost:8080/",
     "height": 221
    },
    "colab_type": "code",
    "id": "A7AXgEG4XuzX",
    "outputId": "e6fde4e8-1d55-4440-e975-6ed07b65d3b8"
   },
   "outputs": [
    {
     "name": "stdout",
     "output_type": "stream",
     "text": [
      "              precision    recall  f1-score   support\n",
      "\n",
      "     mchsgov       0.97      0.96      0.96       626\n",
      "         mil       0.98      0.98      0.98       577\n",
      "   mospolice       0.97      0.98      0.98       583\n",
      " russianpost       0.95      0.97      0.96       520\n",
      "\n",
      "    accuracy                           0.97      2306\n",
      "   macro avg       0.97      0.97      0.97      2306\n",
      "weighted avg       0.97      0.97      0.97      2306\n",
      "\n",
      "Accuracy:  0.969\n"
     ]
    }
   ],
   "source": [
    "clf = fasttext.supervised('fasttext.txt', 'model', label_prefix='label')\n",
    "pred = clf.predict([words for words in test.lemmas_joined])\n",
    "\n",
    "print(classification_report(test['source'], pred))\n",
    "print(\"Accuracy: {0:6.3f}\".format(accuracy_score(test['source'], pred)))"
   ]
  },
  {
   "cell_type": "code",
   "execution_count": 35,
   "metadata": {
    "colab": {
     "base_uri": "https://localhost:8080/",
     "height": 338
    },
    "colab_type": "code",
    "id": "M5nZ2hZiXuza",
    "outputId": "e8732bd0-03a0-4a19-b9d6-b5773aae64d6"
   },
   "outputs": [
    {
     "data": {
      "image/png": "[encoded data removed]",
      "text/plain": [
       "<Figure size 360x360 with 1 Axes>"
      ]
     },
     "metadata": {
      "tags": []
     },
     "output_type": "display_data"
    }
   ],
   "source": [
    "matrix = confusion_matrix(test.source, pred)\n",
    "labels = ['mchsgov', 'mil', 'mospolice', 'russianpost']\n",
    "plt.figure(figsize = (5,5))\n",
    "sns.heatmap(data=matrix, annot=True, fmt=\"d\", cbar=False, xticklabels=labels, yticklabels=labels, cmap=\"PuRd\")\n",
    "plt.title(\"Confusion matrix\")\n",
    "plt.show()"
   ]
  },
  {
   "cell_type": "markdown",
   "metadata": {
    "colab_type": "text",
    "id": "SL7fYBuvZ6ER"
   },
   "source": [
    "__Fast text дал сравнительно неплохой результат. Accuracy = 0.969, также по confusion matrix видно, что не так много текстов было отнесено к другим классам. Самые высокие значения - 18 и 13, которые были неправильно отнесены к почте и полиции, соответственно.__"
   ]
  },
  {
   "cell_type": "markdown",
   "metadata": {
    "colab_type": "text",
    "id": "kmposF0ZXuzj"
   },
   "source": [
    "## Задание 8 [4 балла]. CNN\n",
    "\n",
    "Реализуйте модель Kim et al (2014) для решения задачи классификации с помощью CNN. Оцените результаты классификации по стандартным мерам качества и проведите анализ ошибок. Для этого рекомендуем визуализировать матрицу ошибок (confusion matrix).\n",
    "Ссылка: Kim Y. Convolutional Neural Networks for Sentence Classification. 2014"
   ]
  },
  {
   "cell_type": "code",
   "execution_count": 36,
   "metadata": {
    "colab": {
     "base_uri": "https://localhost:8080/",
     "height": 34
    },
    "colab_type": "code",
    "id": "TF-lc9NCXuzk",
    "outputId": "d1102875-8c8e-4b8e-aa6f-b29000b19051"
   },
   "outputs": [
    {
     "name": "stderr",
     "output_type": "stream",
     "text": [
      "Using TensorFlow backend.\n"
     ]
    }
   ],
   "source": [
    "from keras.preprocessing.text import Tokenizer\n",
    "from keras.preprocessing.sequence import pad_sequences\n",
    "from keras.utils import np_utils\n",
    "from sklearn.preprocessing import LabelBinarizer, LabelEncoder\n",
    "from keras.layers import Embedding, Input, Conv1D, MaxPooling1D, Flatten, Dense, Dropout\n",
    "from keras.models import Model, Sequential\n",
    "from keras.layers import Dense , Input , LSTM , Embedding, Dropout , Activation, GRU, Flatten\n",
    "from keras.layers import Bidirectional, GlobalMaxPool1D\n",
    "from keras import initializers, regularizers, constraints, optimizers, layers"
   ]
  },
  {
   "cell_type": "code",
   "execution_count": 0,
   "metadata": {
    "colab": {},
    "colab_type": "code",
    "id": "vzxP_dC9Xuzp"
   },
   "outputs": [],
   "source": [
    "maxlen = 200\n",
    "max_features = 6000\n",
    "embed_size = 256\n",
    "tokenizer = Tokenizer(num_words=max_features)\n",
    "tokenizer.fit_on_texts(train.lemmas_joined)\n",
    "list_tokenized_train = tokenizer.texts_to_sequences(train.lemmas_joined)\n",
    "X_train = pad_sequences(list_tokenized_train, maxlen=maxlen)\n",
    "list_tokenized_test = tokenizer.texts_to_sequences(test.lemmas_joined)\n",
    "X_test =  pad_sequences(list_tokenized_test, maxlen=maxlen)"
   ]
  },
  {
   "cell_type": "code",
   "execution_count": 0,
   "metadata": {
    "colab": {},
    "colab_type": "code",
    "id": "sUeFk3YQXuzu"
   },
   "outputs": [],
   "source": [
    "le = LabelEncoder()\n",
    "le.fit(train.source.unique())\n",
    "y_train = np_utils.to_categorical(le.transform(train.source), 4)\n",
    "y_test = np_utils.to_categorical(le.transform(test.source), 4)"
   ]
  },
  {
   "cell_type": "code",
   "execution_count": 0,
   "metadata": {
    "colab": {},
    "colab_type": "code",
    "id": "8lXNOT1zXuz0"
   },
   "outputs": [],
   "source": [
    "TEXT_LENGTH = 200\n",
    "VOCABULARY_SIZE = 50000\n",
    "MAX_FEATURES = 5000\n",
    "batch_size = 100\n",
    "epochs = 3"
   ]
  },
  {
   "cell_type": "code",
   "execution_count": 40,
   "metadata": {
    "colab": {
     "base_uri": "https://localhost:8080/",
     "height": 326
    },
    "colab_type": "code",
    "id": "4uRPQX1ZXuz5",
    "outputId": "b2d15c96-98d5-4264-9e7e-59c2c684221a"
   },
   "outputs": [
    {
     "name": "stdout",
     "output_type": "stream",
     "text": [
      "WARNING:tensorflow:From /usr/local/lib/python3.6/dist-packages/tensorflow/python/framework/op_def_library.py:263: colocate_with (from tensorflow.python.framework.ops) is deprecated and will be removed in a future version.\n",
      "Instructions for updating:\n",
      "Colocations handled automatically by placer.\n",
      "WARNING:tensorflow:From /usr/local/lib/python3.6/dist-packages/keras/backend/tensorflow_backend.py:3445: calling dropout (from tensorflow.python.ops.nn_ops) with keep_prob is deprecated and will be removed in a future version.\n",
      "Instructions for updating:\n",
      "Please use `rate` instead of `keep_prob`. Rate should be set to `rate = 1 - keep_prob`.\n",
      "WARNING:tensorflow:From /usr/local/lib/python3.6/dist-packages/tensorflow/python/ops/math_ops.py:3066: to_int32 (from tensorflow.python.ops.math_ops) is deprecated and will be removed in a future version.\n",
      "Instructions for updating:\n",
      "Use tf.cast instead.\n",
      "Train on 8298 samples, validate on 922 samples\n",
      "Epoch 1/3\n",
      "8298/8298 [==============================] - 8s 904us/step - loss: 0.5927 - acc: 0.7744 - val_loss: 0.1628 - val_acc: 0.9610\n",
      "Epoch 2/3\n",
      "8298/8298 [==============================] - 1s 181us/step - loss: 0.0888 - acc: 0.9742 - val_loss: 0.1336 - val_acc: 0.9718\n",
      "Epoch 3/3\n",
      "8298/8298 [==============================] - 1s 180us/step - loss: 0.0363 - acc: 0.9908 - val_loss: 0.1456 - val_acc: 0.9664\n"
     ]
    },
    {
     "data": {
      "text/plain": [
       "<keras.callbacks.History at 0x7f7ba7276710>"
      ]
     },
     "execution_count": 40,
     "metadata": {
      "tags": []
     },
     "output_type": "execute_result"
    }
   ],
   "source": [
    "model = Sequential()\n",
    "model.add(Embedding(VOCABULARY_SIZE,\n",
    "                            embed_size,\n",
    "                            input_length=TEXT_LENGTH,\n",
    "                            trainable=True))\n",
    "model.add(Conv1D(128, 5, activation='relu'))\n",
    "model.add(MaxPooling1D())\n",
    "model.add(Dropout(0.2))\n",
    "model.add(Flatten())\n",
    "model.add(Dense(4, activation = 'softmax'))\n",
    "model.compile(optimizer='adam', loss='binary_crossentropy', metrics=['acc'])\n",
    "model.compile(loss='categorical_crossentropy', optimizer='adam', metrics=['accuracy'])\n",
    "model.fit(X_train,y_train, batch_size=batch_size, epochs=epochs, validation_split=0.1)"
   ]
  },
  {
   "cell_type": "code",
   "execution_count": 0,
   "metadata": {
    "colab": {},
    "colab_type": "code",
    "id": "LFAcwQBUXuz9"
   },
   "outputs": [],
   "source": [
    "predicted = model.predict_classes(X_test)\n",
    "predicted = le.inverse_transform(predicted)"
   ]
  },
  {
   "cell_type": "code",
   "execution_count": 42,
   "metadata": {
    "colab": {
     "base_uri": "https://localhost:8080/",
     "height": 221
    },
    "colab_type": "code",
    "id": "WqrOjyvyXu0C",
    "outputId": "b82af71c-9980-45b1-af18-8b3db69f8b53"
   },
   "outputs": [
    {
     "name": "stdout",
     "output_type": "stream",
     "text": [
      "              precision    recall  f1-score   support\n",
      "\n",
      "     mchsgov       0.97      0.96      0.97       626\n",
      "         mil       0.99      0.97      0.98       577\n",
      "   mospolice       0.98      0.98      0.98       583\n",
      " russianpost       0.95      0.97      0.96       520\n",
      "\n",
      "    accuracy                           0.97      2306\n",
      "   macro avg       0.97      0.97      0.97      2306\n",
      "weighted avg       0.97      0.97      0.97      2306\n",
      "\n",
      "Accuracy:  0.973\n"
     ]
    }
   ],
   "source": [
    "predicted = model.predict_classes(X_test)\n",
    "predicted = le.inverse_transform(predicted)\n",
    "y_true = le.transform(test.source)\n",
    "y_true = le.inverse_transform(y_true)\n",
    "print(classification_report(y_true, predicted))\n",
    "print(\"Accuracy: {0:6.3f}\".format(accuracy_score(y_true, predicted)))"
   ]
  },
  {
   "cell_type": "code",
   "execution_count": 43,
   "metadata": {
    "colab": {
     "base_uri": "https://localhost:8080/",
     "height": 338
    },
    "colab_type": "code",
    "id": "TyEVf4XwXu0G",
    "outputId": "966711b0-cb78-4bc0-bd3c-d672e08a49b0"
   },
   "outputs": [
    {
     "data": {
      "image/png": "[encoded data removed]",
      "text/plain": [
       "<Figure size 360x360 with 1 Axes>"
      ]
     },
     "metadata": {
      "tags": []
     },
     "output_type": "display_data"
    }
   ],
   "source": [
    "matrix = confusion_matrix(y_true, predicted)\n",
    "labels = ['mchsgov', 'mil', 'mospolice', 'russianpost']\n",
    "plt.figure(figsize = (5,5))\n",
    "sns.heatmap(data=matrix, annot=True, fmt=\"d\", cbar=False, xticklabels=labels, yticklabels=labels, cmap=\"PuRd\")\n",
    "plt.title(\"Confusion matrix\")\n",
    "plt.show()"
   ]
  },
  {
   "cell_type": "markdown",
   "metadata": {
    "colab_type": "text",
    "id": "3nPATOVhasay"
   },
   "source": [
    "___Модель Kim et al (2014) показала высокое качество для решения задачи классификации с помощью CNN. Accuracy = 0.973. Матрица ошибок также не показала высоких значений, то есть ошибка классификации почти что минимальная___"
   ]
  },
  {
   "cell_type": "markdown",
   "metadata": {
    "colab_type": "text",
    "id": "AMooPomXXu0L"
   },
   "source": [
    "## Задание 9 [4 + 2 балла]. RNN\n",
    "\n",
    "(4 балла)Используйте ```RNN``` (BLSTM с какими-то признаками и пулинг поверх) для решения задачи текстовой классификации. Оцените результаты классификации по стандартным мерам качества и проведите анализ ошибок. Для этого рекомендуем визуализировать матрицу ошибок (confusion matrix).\n",
    "\n",
    "За дополнительные 2 балла добавьте в модель символьные признаки - CharCNN или CharRNN"
   ]
  },
  {
   "cell_type": "code",
   "execution_count": 47,
   "metadata": {
    "colab": {
     "base_uri": "https://localhost:8080/",
     "height": 224
    },
    "colab_type": "code",
    "id": "hpymcTvVXu0M",
    "outputId": "043c866d-7cf0-4ea0-bef2-dda38b612768"
   },
   "outputs": [
    {
     "name": "stdout",
     "output_type": "stream",
     "text": [
      "WARNING:tensorflow:From /usr/local/lib/python3.6/dist-packages/tensorflow/python/ops/math_grad.py:102: div (from tensorflow.python.ops.math_ops) is deprecated and will be removed in a future version.\n",
      "Instructions for updating:\n",
      "Deprecated in favor of operator or tf.math.divide.\n",
      "Train on 8298 samples, validate on 922 samples\n",
      "Epoch 1/3\n",
      "8298/8298 [==============================] - 42s 5ms/step - loss: 0.5396 - acc: 0.8362 - val_loss: 0.1181 - val_acc: 0.9696\n",
      "Epoch 2/3\n",
      "8298/8298 [==============================] - 40s 5ms/step - loss: 0.0872 - acc: 0.9789 - val_loss: 0.1123 - val_acc: 0.9718\n",
      "Epoch 3/3\n",
      "8298/8298 [==============================] - 41s 5ms/step - loss: 0.0530 - acc: 0.9860 - val_loss: 0.1081 - val_acc: 0.9707\n"
     ]
    },
    {
     "data": {
      "text/plain": [
       "<keras.callbacks.History at 0x7f7b9bfed6a0>"
      ]
     },
     "execution_count": 47,
     "metadata": {
      "tags": []
     },
     "output_type": "execute_result"
    }
   ],
   "source": [
    "model = Sequential()\n",
    "model.add(Embedding(max_features, embed_size))\n",
    "model.add(Bidirectional(LSTM(96, return_sequences = True)))\n",
    "model.add(GlobalMaxPool1D())\n",
    "model.add(Dense(40, activation=\"relu\"))\n",
    "model.add(Dropout(0.05))\n",
    "model.add(Dense(4, activation=\"softmax\"))\n",
    "model.compile(optimizer='adam', loss='binary_crossentropy', metrics=['acc'])\n",
    "model.compile(loss='categorical_crossentropy', optimizer='adam', metrics=['accuracy'])\n",
    "\n",
    "batch_size = 100\n",
    "epochs = 3\n",
    "model.fit(X_train,y_train, batch_size=batch_size, epochs=epochs, validation_split=0.1)"
   ]
  },
  {
   "cell_type": "code",
   "execution_count": 0,
   "metadata": {
    "colab": {},
    "colab_type": "code",
    "id": "mLT5x3yzXu0R"
   },
   "outputs": [],
   "source": [
    "y_pred = model.predict_classes(X_test)\n",
    "y_pred = le.inverse_transform(y_pred)"
   ]
  },
  {
   "cell_type": "code",
   "execution_count": 50,
   "metadata": {
    "colab": {
     "base_uri": "https://localhost:8080/",
     "height": 221
    },
    "colab_type": "code",
    "id": "e3-KdaLMXu0S",
    "outputId": "ac25ef86-5470-482c-ccc8-95a212dc0ee9"
   },
   "outputs": [
    {
     "name": "stdout",
     "output_type": "stream",
     "text": [
      "              precision    recall  f1-score   support\n",
      "\n",
      "     mchsgov       0.97      0.95      0.96       626\n",
      "         mil       0.99      0.98      0.98       577\n",
      "   mospolice       0.97      0.99      0.98       583\n",
      " russianpost       0.94      0.96      0.95       520\n",
      "\n",
      "    accuracy                           0.97      2306\n",
      "   macro avg       0.97      0.97      0.97      2306\n",
      "weighted avg       0.97      0.97      0.97      2306\n",
      "\n",
      "Accuracy:  0.968\n"
     ]
    }
   ],
   "source": [
    "y_true = le.transform(test.source)\n",
    "y_true = le.inverse_transform(y_true)\n",
    "print(classification_report(y_true, y_pred))\n",
    "print(\"Accuracy: {0:6.3f}\".format(accuracy_score(y_true, y_pred)))"
   ]
  },
  {
   "cell_type": "code",
   "execution_count": 51,
   "metadata": {
    "colab": {
     "base_uri": "https://localhost:8080/",
     "height": 338
    },
    "colab_type": "code",
    "id": "W8t0ZccXXu0V",
    "outputId": "ea959dcd-ad77-4fa2-e07a-f543a19f1036"
   },
   "outputs": [
    {
     "data": {
      "image/png": "[encoded data removed]",
      "text/plain": [
       "<Figure size 360x360 with 1 Axes>"
      ]
     },
     "metadata": {
      "tags": []
     },
     "output_type": "display_data"
    }
   ],
   "source": [
    "matrix = confusion_matrix(y_true, y_pred)\n",
    "labels = ['mchsgov', 'mil', 'mospolice', 'russianpost']\n",
    "plt.figure(figsize = (5,5))\n",
    "sns.heatmap(data=matrix, annot=True, fmt=\"d\", cbar=False, xticklabels=labels, yticklabels=labels, cmap=\"PuRd\")\n",
    "plt.title(\"Confusion matrix\")\n",
    "plt.show()"
   ]
  },
  {
   "cell_type": "markdown",
   "metadata": {},
   "source": [
    "## Вывод"
   ]
  },
  {
   "cell_type": "markdown",
   "metadata": {
    "colab_type": "text",
    "id": "dOYL-vWubcIK"
   },
   "source": [
    "__Bidirectional LSTM c пулингом, дропаут-регуляризацией и полносвязным слоем дало высокое качество (Accuracy = 0.968) при решении задачи текстовой классификации. Однако, качество хуже чем у CNN. Возможно, это связано с подбором гиперпараметров и можно было найти гиперпараметры для данной сети, которые показали бы лучшее качество, чем у CNN. По confusion matrix можно сказать, что больше всего сеть ошибается на классе мчс и почте, ложно относя мчс тексты к почте (25), а тексты почты к полиции(15)__"
   ]
  }
 ],
 "metadata": {
  "accelerator": "GPU",
  "colab": {
   "collapsed_sections": [],
   "name": "Попов Даниил ИАД1.ipynb",
   "provenance": [],
   "version": "0.3.2"
  },
  "kernelspec": {
   "display_name": "Python 3",
   "language": "python",
   "name": "python3"
  },
  "language_info": {
   "codemirror_mode": {
    "name": "ipython",
    "version": 3
   },
   "file_extension": ".py",
   "mimetype": "text/x-python",
   "name": "python",
   "nbconvert_exporter": "python",
   "pygments_lexer": "ipython3",
   "version": "3.7.1"
  }
 },
 "nbformat": 4,
 "nbformat_minor": 1
}
