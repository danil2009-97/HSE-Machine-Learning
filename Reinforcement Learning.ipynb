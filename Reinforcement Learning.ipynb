{
 "cells": [
  {
   "cell_type": "markdown",
   "metadata": {},
   "source": [
    "# ДЗ1 - имитационное обучение\n",
    "Крайний срок сдачи - 20.02.2019 23:59."
   ]
  },
  {
   "cell_type": "markdown",
   "metadata": {},
   "source": [
    "***\n",
    "Задача будет заключаться в том, чтобы провести эксперименты с имитационным обучением: смотреть, что такое клонирование поведения и разобраться с алгоритмом DAgger.\n",
    "Вместо человека-демонстранта демонстрации будут даваться специальной предобученной \"экспертной\" стратегией. Ваша задача будет заключаться в реализации алгоритма клонирования и DAgger, сравнения их производительности на нескольких простых задачах управления из пакета OpenAI Gym. Ваше решение в виде Jupyter тетрадки *с комментариями* нужно загрузить по [ссылке](https://www.dropbox.com/request/uNq18mDY284JdI7o5KgJ) с шаблоном имени \"Фамилия>\\_ИАД<номер группы>.ipynb\", например Панов_ИАД1.ipynb. Указывать ту группу, которую вы посещаете на семинарах.\n",
    "\n",
    "__Будьте винимательны!__ В заготовках кода ниже могут быть неточности! Их правка входит в задачу выполнения ДЗ! Как минимум, вам нужно дописывать строчик кода ниже пометок __Ваш код здесь__."
   ]
  },
  {
   "cell_type": "markdown",
   "metadata": {},
   "source": [
    "## Требования:\n",
    "### 1. __TensorFlow:__\n",
    "Инструкции-напоминания по установке здесь - https://www.tensorflow.org/get_started/os_setup. GPU не будет требоваться для выполнения ДЗ.\n",
    "### 2. __OpenAI Gym:__  \n",
    "Напоминание-инструкции по OpenAI Gym - https://gym.openai.com/docs. Используйте версию 0.10.5.\n",
    "### 3. __MuJoCo:__<br>\n",
    "Будем использовать набор симуляционных сред MuJoCo.  Загружайте версию 1.50 с http://mujoco.org/,  и версию  1.50.1.56  с https://github.com/openai/mujoco-py/. Для активации доступа можно испоьзовать ваше университетский аккаунт -  https://www.roboti.us/license.html.\n",
    "***"
   ]
  },
  {
   "cell_type": "markdown",
   "metadata": {},
   "source": [
    "Импортируем все необходимое:"
   ]
  },
  {
   "cell_type": "code",
   "execution_count": 1,
   "metadata": {},
   "outputs": [
    {
     "name": "stderr",
     "output_type": "stream",
     "text": [
      "C:\\Anaconda\\lib\\site-packages\\h5py\\__init__.py:36: FutureWarning: Conversion of the second argument of issubdtype from `float` to `np.floating` is deprecated. In future, it will be treated as `np.float64 == np.dtype(float).type`.\n",
      "  from ._conv import register_converters as _register_converters\n"
     ]
    },
    {
     "name": "stdout",
     "output_type": "stream",
     "text": [
      "TensorFlow version : 1.12.0\n",
      "Gym version : 0.10.5\n"
     ]
    }
   ],
   "source": [
    "import os\n",
    "import pickle\n",
    "import tensorflow as tf\n",
    "print(\"TensorFlow version :\",tf.__version__)\n",
    "\n",
    "import numpy as np\n",
    "import tf_util\n",
    "import gym\n",
    "print(\"Gym version :\",gym.__version__)\n",
    "\n",
    "import glfw\n",
    "import load_policy\n",
    "\n",
    "import matplotlib.pyplot as plt\n",
    "%matplotlib inline"
   ]
  },
  {
   "cell_type": "markdown",
   "metadata": {},
   "source": [
    "***\n",
    "## Соберём статистику"
   ]
  },
  {
   "cell_type": "markdown",
   "metadata": {},
   "source": [
    " Генерируем статистику (roll-outs) по заданной экспертной стратегии в 3 шага:\n",
    " 1. Загружаем стратегию из файла и инициализируем окружение.\n",
    " 2. Начинаем сессию tensorflow.\n",
    " 3. В рамках сессии собираем данные: до конца эпизода в цикле выбираем экспертное действие, применяем его и сохраняем результаты."
   ]
  },
  {
   "cell_type": "code",
   "execution_count": 2,
   "metadata": {},
   "outputs": [
    {
     "name": "stdout",
     "output_type": "stream",
     "text": [
      "loading and building expert policy\n",
      "obs (1, 376) (1, 376)\n",
      "loaded and built\n",
      "\u001b[33mWARN: gym.spaces.Box autodetected dtype as <class 'numpy.float32'>. Please provide explicit dtype.\u001b[0m\n",
      "\u001b[33mWARN: gym.spaces.Box autodetected dtype as <class 'numpy.float32'>. Please provide explicit dtype.\u001b[0m\n"
     ]
    }
   ],
   "source": [
    "#choose environment (Uncomment choosed one)\n",
    "env_name=\"Humanoid-v2\"\n",
    "#env_name=\"Ant-v2\"\n",
    "#env_name=\"HalfCheetah-v2\"\n",
    "#env_name=\"Hopper-v2\"\n",
    "#env_name=\"Reacher-v2\"\n",
    "#env_name=\"Walker2d-v2\"\n",
    "\n",
    "# choose expert policy file from /expert file\n",
    "expert_policy_file=\"experts/\"+ env_name +\".pkl\"\n",
    "\n",
    "# load the policy\n",
    "print('loading and building expert policy')\n",
    "policy_fn = load_policy.load_policy(expert_policy_file)\n",
    "print('loaded and built')\n",
    "\n",
    "# make the environment\n",
    "env = gym.make(env_name)\n",
    "\n",
    "# function to generate rollouts from the expert policies \n",
    "def generate_rollouts(num_rollouts,max_steps,render=False, flag = True):\n",
    "    \n",
    "    # initialize tensoflow session (tf stuff)\n",
    "    with tf.Session():\n",
    "        tf_util.initialize()\n",
    "\n",
    "        # collect rollouts\n",
    "        # firstly, define the arrays\n",
    "        returns = []\n",
    "        observations = []\n",
    "        actions = []\n",
    "\n",
    "        # loop to collect data\n",
    "        for i in range(num_rollouts):\n",
    "            #number of iteration (episode)\n",
    "            #print('iter', i)\n",
    "            # parameters to initial values\n",
    "            obs = env.reset()\n",
    "            done = False\n",
    "            totalr = 0.\n",
    "            steps = 0\n",
    "            # loop until the end of the episode\n",
    "            while not done:\n",
    "                # choose an action depending on the observation\n",
    "                action = policy_fn(obs[None,:])\n",
    "                # append sample to arrays\n",
    "                observations.append(obs)\n",
    "                actions.append(action)\n",
    "                # apply the action on the environment\n",
    "                obs, r, done, _ = env.step(action)\n",
    "                # calculate the total reward\n",
    "                totalr += r\n",
    "                steps += 1\n",
    "                # render the environment\n",
    "                if render==True:\n",
    "                    env.render()\n",
    "                #if steps % 100 == 0: print(\"%i/%i\"%(steps, max_steps))\n",
    "                if steps >= max_steps:\n",
    "                    break\n",
    "            # append the total reward\n",
    "            returns.append(totalr)\n",
    "        \n",
    "        if flag == True: \n",
    "        # print the reward information\n",
    "        #print('returns', returns)\n",
    "            print('mean return', np.mean(returns))\n",
    "            print('std of return', np.std(returns))\n",
    "\n",
    "        expert_data = {'observations': np.array(observations),'actions': np.array(actions)}\n",
    "            \n",
    "        return expert_data"
   ]
  },
  {
   "cell_type": "markdown",
   "metadata": {},
   "source": [
    "Тестируем реализованную функцию: num_rollouts=4,max_steps=100,render=True"
   ]
  },
  {
   "cell_type": "markdown",
   "metadata": {},
   "source": [
    "Notes:\n",
    "- If the camera doesn't track the agent, prss __Tab__ to change the viewpoint\n",
    "- In some cases the jupyter notebok kernel will crash if you close the rendering window, __don't close the windows until finishing the execution of the whole notebook.__"
   ]
  },
  {
   "cell_type": "code",
   "execution_count": 4,
   "metadata": {},
   "outputs": [
    {
     "name": "stdout",
     "output_type": "stream",
     "text": [
      "WARNING:tensorflow:From C:\\Users\\User\\домашка 2 курс\\tf_util.py:91: all_variables (from tensorflow.python.ops.variables) is deprecated and will be removed after 2017-03-02.\n",
      "Instructions for updating:\n",
      "Please use tf.global_variables instead.\n",
      "WARNING:tensorflow:From C:\\Anaconda\\lib\\site-packages\\tensorflow\\python\\util\\tf_should_use.py:189: initialize_variables (from tensorflow.python.ops.variables) is deprecated and will be removed after 2017-03-02.\n",
      "Instructions for updating:\n",
      "Use `tf.variables_initializer` instead.\n",
      "Creating window glfw\n",
      "mean return 221.54510653735204\n",
      "std of return 0.6157833434180258\n"
     ]
    }
   ],
   "source": [
    "generate_rollouts(num_rollouts=4,max_steps=100,render=True);"
   ]
  },
  {
   "cell_type": "markdown",
   "metadata": {},
   "source": [
    "***\n",
    "## 1. Клонирование поведения"
   ]
  },
  {
   "cell_type": "markdown",
   "metadata": {},
   "source": [
    "Клонирование поведения (Behavioural cloning, BC) - метод, с помощью которого компьютерная программа обучается воспроизводить действия эксперта (человека). Действия эксперта записываются, а затем эта статистика используется как входные данные для алгоритма обучения. Этот алгоритм в результате формирует последовательность действий, по которым воспроизводится поведение эксперта."
   ]
  },
  {
   "cell_type": "markdown",
   "metadata": {},
   "source": [
    "Будем использовать стандартное обучение с учителем и использовать нейронную сеть для этого."
   ]
  },
  {
   "cell_type": "markdown",
   "metadata": {},
   "source": [
    "Кроме конструктора, вам нужно дореализовать метод __train__ класса __BC_Model__:"
   ]
  },
  {
   "cell_type": "code",
   "execution_count": 3,
   "metadata": {},
   "outputs": [],
   "source": [
    "from sklearn.utils import shuffle\n",
    "\n",
    "class BC_Model(object):\n",
    "    def __init__(self, input_data, output_data, batch_size = 128):\n",
    "        \n",
    "        # define tensorflow session\n",
    "        self.sess = tf.Session()\n",
    "        # input and output data , and their shapes\n",
    "        self.batch_size = batch_size\n",
    "        self.input_data = input_data\n",
    "        self.output_data = np.reshape(output_data, (output_data.shape[0], output_data.shape[2]))\n",
    "        self.input_shape = [self.batch_size, self.input_data.shape[-1]]\n",
    "        self.output_shape = [self.batch_size, self.output_data.shape[-1]]\n",
    "        \n",
    "        # placeholders for the neural network (input, model output and the expert output)\n",
    "        self.input_placeholder = tf.placeholder(tf.float32, shape = self.input_shape)\n",
    "        self.output_placeholder_expert = tf.placeholder(tf.float32, shape = self.output_shape)\n",
    "        self.output_placeholder_model = self.build_model(self.input_placeholder)\n",
    "        \n",
    "        # the loss function Mean squared error, (L2 stands for Least Square Errors)\n",
    "        ### Ваш код здесь - нужно добавить функцию потерь l2_loss ###\n",
    "        self.loss = tf.losses.mean_squared_error(self.output_placeholder_model, self.output_placeholder_expert)\n",
    "\n",
    "\n",
    "    def build_model(self, input_placeholder):\n",
    "        # build the neural network  (you can try another architecture)\n",
    "        ### Ваш код здесь - нужно реализовать свою архитектуру ###\n",
    "        layer_1 = tf.layers.dense(inputs=input_placeholder, units=64, activation=tf.nn.relu) \n",
    "        layer_2 = tf.layers.dense(inputs = layer_1, units = 128, activation = tf.nn.relu) \n",
    "        layer_3 = tf.layers.dense(inputs = layer_2, units = 256, activation = tf.nn.relu) \n",
    "        final_layer = tf.layers.dense(inputs = layer_3, units = self.output_placeholder_expert.shape[1],activation = tf.nn.relu)\n",
    "        \n",
    "        return final_layer\n",
    "\n",
    "    def train(self, epochs = 80, train_data = None, test_data = None):\n",
    "        # check train and test data\n",
    "        if train_data is None and test_data is None :\n",
    "            # split the input data to train and test if test and train data are not given\n",
    "            train_data, test_data = shuffle(self.input_data, self.output_data, random_state = 0)\n",
    "        else:\n",
    "            #reshape test data\n",
    "            test_data = np.reshape(test_data, (test_data.shape[0], test_data.shape[2]))\n",
    "        \n",
    "        # using Adam optimizer\n",
    "        optimizer = tf.train.AdamOptimizer().minimize(self.loss)\n",
    "        # define a saver\n",
    "        saver = tf.train.Saver()\n",
    "        \n",
    "        # number of batches\n",
    "        batch_idxs = len(train_data) // self.batch_size\n",
    "\n",
    "        # define a writer ()\n",
    "        writer = tf.summary.FileWriter(\"exp\")\n",
    "        \n",
    "        # add the graph (The model and all the variables) to the writer\n",
    "        writer.add_graph(self.sess.graph)\n",
    "\n",
    "        #initialize network variables\n",
    "        init_op = tf.global_variables_initializer()\n",
    "        self.sess.run(init_op)\n",
    "\n",
    "        #loop over epochs\n",
    "        for epoch in range(epochs):\n",
    "            #for each epoch loop over batches\n",
    "            for idx in range(batch_idxs):\n",
    "                # take a batch from training and test data\n",
    "                batch_train = train_data[idx * self.batch_size : (idx + 1) * self.batch_size]\n",
    "                batch_value = test_data[idx * self.batch_size : (idx + 1) * self.batch_size]\n",
    "                # run the optimizer to reduce the loss (we train the model to give us the same output for specific input)\n",
    "                feed_train = {self.input_placeholder : batch_train, self.output_placeholder_expert : batch_value}\n",
    "                self.sess.run(optimizer, feed_dict = feed_train)\n",
    "                    \n",
    "        # save the model\n",
    "        saver.save(self.sess, \"exp\" + \"/behavior_cloning_model\")\n",
    "\n",
    "    def sample(self, input):\n",
    "        #sample an action for a specified input\n",
    "        output = self.sess.run(self.output_placeholder_model, feed_dict = {self.input_placeholder : np.repeat(input[None, :], self.batch_size, axis = 0)})\n",
    "        return output[0]"
   ]
  },
  {
   "cell_type": "markdown",
   "metadata": {},
   "source": [
    "### Обучим модель на экспертных данных"
   ]
  },
  {
   "cell_type": "code",
   "execution_count": 4,
   "metadata": {},
   "outputs": [
    {
     "name": "stdout",
     "output_type": "stream",
     "text": [
      "WARNING:tensorflow:From C:\\Users\\User\\домашка 2 курс\\tf_util.py:91: all_variables (from tensorflow.python.ops.variables) is deprecated and will be removed after 2017-03-02.\n",
      "Instructions for updating:\n",
      "Please use tf.global_variables instead.\n",
      "WARNING:tensorflow:From C:\\Anaconda\\lib\\site-packages\\tensorflow\\python\\util\\tf_should_use.py:189: initialize_variables (from tensorflow.python.ops.variables) is deprecated and will be removed after 2017-03-02.\n",
      "Instructions for updating:\n",
      "Use `tf.variables_initializer` instead.\n",
      "mean return 638.1894274553965\n",
      "std of return 7.596273920743571\n",
      "dimension of obs : (2000, 376)\n",
      "dimension of actions : (2000, 1, 17)\n"
     ]
    }
   ],
   "source": [
    "# generate expert data\n",
    "data=generate_rollouts(num_rollouts=20,max_steps=100,render=False);\n",
    "x = data['observations']\n",
    "y = data['actions']\n",
    "print ('dimension of obs :', x.shape)\n",
    "print('dimension of actions :', y.shape)\n",
    "\n",
    "# shuffle data\n",
    "x,y = shuffle(x,y)\n",
    "\n",
    "# create an object from BC_Model class, and train it\n",
    "cloner=BC_Model(x,y)\n",
    "cloner.train()"
   ]
  },
  {
   "cell_type": "markdown",
   "metadata": {},
   "source": [
    "### Испытываем модель"
   ]
  },
  {
   "cell_type": "code",
   "execution_count": 5,
   "metadata": {},
   "outputs": [
    {
     "name": "stdout",
     "output_type": "stream",
     "text": [
      "Creating window glfw\n",
      "mean return 197.20863247376093\n",
      "std of return 5.783683616994509\n"
     ]
    }
   ],
   "source": [
    "num_eval_rollouts=20\n",
    "# loop over runouts\n",
    "returns=[]\n",
    "for i in range(num_eval_rollouts):\n",
    "    # reset variables in each iteration\n",
    "    totalr=0\n",
    "    done=False\n",
    "    obs=env.reset()\n",
    "    # loop until the end of the episode\n",
    "    while not done:\n",
    "        # get an action from the trained model (output for specific observation as input)\n",
    "        action=cloner.sample(obs)\n",
    "        # implement the action\n",
    "        obs,r,done,_=env.step(action)\n",
    "        env.render()\n",
    "        totalr+=r\n",
    "    returns.append(totalr)\n",
    "print('mean return', np.mean(returns))\n",
    "print('std of return', np.std(returns))"
   ]
  },
  {
   "cell_type": "markdown",
   "metadata": {},
   "source": [
    "__Задание 1.1.__ Вам необходимо обучить модель на любых трех окружениях MoJoCo. Построить графики отдачи (totalr) в зависимости от количества набранной статистики (num_rollouts) для обучения."
   ]
  },
  {
   "cell_type": "code",
   "execution_count": 6,
   "metadata": {},
   "outputs": [
    {
     "name": "stdout",
     "output_type": "stream",
     "text": [
      "    Rollouts number:  10\n",
      "mean return 89.30243250215061\n",
      "std of return: 27.57724850981613\n",
      "    Rollouts number:  15\n",
      "mean return 68.0772075771354\n",
      "std of return: 10.769442119615142\n",
      "    Rollouts number:  20\n",
      "mean return 87.17260072304757\n",
      "std of return: 17.862430864286985\n",
      "    Rollouts number:  25\n",
      "mean return 118.92740782591208\n",
      "std of return: 45.89171901991374\n",
      "    Rollouts number:  30\n",
      "mean return 266.4746287621148\n",
      "std of return: 114.83926625783833\n",
      "    Rollouts number:  35\n",
      "mean return 202.39813589526133\n",
      "std of return: 126.72104010306185\n",
      "    Rollouts number:  40\n",
      "mean return 166.9030015871236\n",
      "std of return: 145.52719662548645\n",
      "    Rollouts number:  45\n",
      "mean return 293.80164169342675\n",
      "std of return: 10.993037212546986\n"
     ]
    }
   ],
   "source": [
    "number_rollouts = range(10,50,5)\n",
    "rollout_returns = []\n",
    "for rollout in number_rollouts:\n",
    "    data=generate_rollouts(num_rollouts=rollout,max_steps=100,render=False, flag = False);\n",
    "    x = data['observations']\n",
    "    y = data['actions']\n",
    "    x,y = shuffle(x,y)\n",
    "    cloner=BC_Model(x,y)\n",
    "    cloner.train()\n",
    "    num_eval_rollouts=20\n",
    "    returns=[]\n",
    "    for i in range(num_eval_rollouts):\n",
    "        totalr=0\n",
    "        done=False\n",
    "        obs=env.reset()\n",
    "        while not done:\n",
    "            action=cloner.sample(obs)\n",
    "            obs,r,done,_=env.step(action)\n",
    "            env.render()\n",
    "            totalr+=r\n",
    "        returns.append(totalr)\n",
    "    print('    Rollouts number: ', rollout)\n",
    "    print('mean return', np.mean(returns))\n",
    "    print('std of return:', np.std(returns))\n",
    "    rollout_returns.append(np.mean(returns))\n",
    "        "
   ]
  },
  {
   "cell_type": "code",
   "execution_count": 36,
   "metadata": {},
   "outputs": [
    {
     "data": {
      "image/png": "[encoded data removed]",
      "text/plain": [
       "<Figure size 432x288 with 1 Axes>"
      ]
     },
     "metadata": {},
     "output_type": "display_data"
    }
   ],
   "source": [
    "def plot(name):\n",
    "    plt.plot(number_rollouts, rollout_returns, linestyle='-', linewidth = 2.5, color = 'm')\n",
    "    plt.title(name)\n",
    "    plt.xlabel(\"Num_rollouts\") \n",
    "    plt.ylabel(\"Totalr\")\n",
    "    plt.grid()\n",
    "    plt.show()\n",
    "plot('Humanoid-v2')"
   ]
  },
  {
   "cell_type": "markdown",
   "metadata": {},
   "source": [
    "### Hopper - v2"
   ]
  },
  {
   "cell_type": "code",
   "execution_count": 126,
   "metadata": {},
   "outputs": [
    {
     "name": "stdout",
     "output_type": "stream",
     "text": [
      "loading and building expert policy\n",
      "obs (1, 11) (1, 11)\n",
      "loaded and built\n",
      "\u001b[33mWARN: gym.spaces.Box autodetected dtype as <class 'numpy.float32'>. Please provide explicit dtype.\u001b[0m\n",
      "\u001b[33mWARN: gym.spaces.Box autodetected dtype as <class 'numpy.float32'>. Please provide explicit dtype.\u001b[0m\n"
     ]
    }
   ],
   "source": [
    "#\"Hopper-v2\"\n",
    "def change_env(name):\n",
    "    env_name= name \n",
    "    expert_policy_file=\"experts/\"+ env_name +\".pkl\"\n",
    "    print('loading and building expert policy')\n",
    "    policy_fn = load_policy.load_policy(expert_policy_file)\n",
    "    print('loaded and built')\n",
    "    env = gym.make(env_name)\n",
    "    \n",
    "change_env(\"Hopper-v2\")\n",
    "\n",
    "# Не забудьте прогнать после этого код после задания 1.1 !!!"
   ]
  },
  {
   "cell_type": "markdown",
   "metadata": {},
   "source": [
    "__Не забудьте прогнать код после 1.1__ "
   ]
  },
  {
   "cell_type": "code",
   "execution_count": 132,
   "metadata": {},
   "outputs": [
    {
     "data": {
      "image/png": "[encoded data removed]",
      "text/plain": [
       "<Figure size 432x288 with 1 Axes>"
      ]
     },
     "metadata": {},
     "output_type": "display_data"
    }
   ],
   "source": [
    "plot('Hopper-v2')"
   ]
  },
  {
   "cell_type": "markdown",
   "metadata": {},
   "source": [
    "### Walker2d-v2"
   ]
  },
  {
   "cell_type": "code",
   "execution_count": 139,
   "metadata": {},
   "outputs": [
    {
     "name": "stdout",
     "output_type": "stream",
     "text": [
      "loading and building expert policy\n",
      "obs (1, 11) (1, 11)\n",
      "loaded and built\n",
      "\u001b[33mWARN: gym.spaces.Box autodetected dtype as <class 'numpy.float32'>. Please provide explicit dtype.\u001b[0m\n",
      "\u001b[33mWARN: gym.spaces.Box autodetected dtype as <class 'numpy.float32'>. Please provide explicit dtype.\u001b[0m\n"
     ]
    }
   ],
   "source": [
    "change_env(\"Walker2d-v2\")"
   ]
  },
  {
   "cell_type": "markdown",
   "metadata": {},
   "source": [
    "__Не забудьте прогнать код после 1.1__ "
   ]
  },
  {
   "cell_type": "code",
   "execution_count": 7,
   "metadata": {},
   "outputs": [
    {
     "data": {
      "image/png": "[encoded data removed]",
      "text/plain": [
       "<Figure size 432x288 with 1 Axes>"
      ]
     },
     "metadata": {},
     "output_type": "display_data"
    }
   ],
   "source": [
    "plot(\"Walker2d-v2\")"
   ]
  },
  {
   "cell_type": "markdown",
   "metadata": {},
   "source": [
    "__Задание 1.2.__ Выберите один из гиперапараметров вашей модели, которые влияют на качество обучения (количество эпох, количество слоев и т.п.). Для одного из окружений постройте график влияния значения этого параметра на качество обучения (totalr)."
   ]
  },
  {
   "cell_type": "markdown",
   "metadata": {},
   "source": [
    "__Окружение возьмём Humanoid-v2, гиперпараметр - количество эпох __ "
   ]
  },
  {
   "cell_type": "code",
   "execution_count": 9,
   "metadata": {},
   "outputs": [
    {
     "name": "stdout",
     "output_type": "stream",
     "text": [
      "mean return 159.86133151341897\n",
      "std of return 5.249913158525813\n",
      "mean return 113.50456847550349\n",
      "std of return 2.4955808268038706\n",
      "mean return 210.8770623300142\n",
      "std of return 3.1345539014423354\n",
      "mean return 210.23646550723146\n",
      "std of return 2.937009350157578\n",
      "mean return 253.98401067850006\n",
      "std of return 6.075019774318321\n",
      "mean return 211.0876857924987\n",
      "std of return 2.9186952629992935\n",
      "mean return 209.62230805045516\n",
      "std of return 2.4158354041247727\n",
      "mean return 307.74890429880384\n",
      "std of return 25.49611424868148\n",
      "mean return 202.17594557052223\n",
      "std of return 9.076418247496436\n",
      "mean return 319.7675323103047\n",
      "std of return 12.654167695905693\n",
      "mean return 322.43734826235095\n",
      "std of return 14.911264142395865\n",
      "mean return 269.5982799611679\n",
      "std of return 5.078835811583728\n",
      "mean return 189.2151913315435\n",
      "std of return 1.8857257738045083\n",
      "mean return 299.2079161507972\n",
      "std of return 18.190599037701656\n",
      "mean return 287.0693657605296\n",
      "std of return 11.682365527184373\n",
      "mean return 419.03542344133774\n",
      "std of return 23.737245270109547\n",
      "mean return 319.2107253006321\n",
      "std of return 16.324237860601365\n",
      "mean return 309.34943652436084\n",
      "std of return 7.390302633958339\n",
      "mean return 377.65528863677355\n",
      "std of return 31.83208417502855\n"
     ]
    }
   ],
   "source": [
    "num_epoch=range(10, 200, 10)\n",
    "num_eval_rollouts=20 \n",
    "returns_epo=[] \n",
    "for epoch in num_epoch: \n",
    "    cloner=BC_Model(x,y) \n",
    "    cloner.train(epochs = epoch) \n",
    "    returns=[] \n",
    "    for i in range(num_eval_rollouts):\n",
    "        totalr=0\n",
    "        done=False\n",
    "        obs=env.reset()\n",
    "        while not done:\n",
    "            action=cloner.sample(obs)\n",
    "            obs,r,done,_=env.step(action)\n",
    "            env.render()\n",
    "            totalr+=r\n",
    "        returns.append(totalr)\n",
    "    print('mean return', np.mean(returns))\n",
    "    print('std of return', np.std(returns))\n",
    "    returns_epo.append(np.mean(returns))"
   ]
  },
  {
   "cell_type": "code",
   "execution_count": 16,
   "metadata": {},
   "outputs": [
    {
     "data": {
      "text/plain": [
       "Text(0.5,1,'Humanoid-v2')"
      ]
     },
     "execution_count": 16,
     "metadata": {},
     "output_type": "execute_result"
    },
    {
     "data": {
      "image/png": "[encoded data removed]",
      "text/plain": [
       "<Figure size 432x288 with 1 Axes>"
      ]
     },
     "metadata": {},
     "output_type": "display_data"
    }
   ],
   "source": [
    "plt.plot(range(10, 200, 10), returns_epo, linestyle='-', linewidth = 2.5, color = 'm')\n",
    "plt.xlim(0,200)\n",
    "plt.xlabel(\"Epochs\") \n",
    "plt.ylabel(\"Totalr\") \n",
    "plt.title(env_name) "
   ]
  },
  {
   "cell_type": "markdown",
   "metadata": {},
   "source": [
    "***\n",
    "## 2. DAgger Algorithm"
   ]
  },
  {
   "cell_type": "markdown",
   "metadata": {},
   "source": [
    "Цель алгоритма DAgger (data Aggregation) - собрать статистику обучаемой модели, вместо экспертных данных. \n",
    "- Вначале мы тренируем BC_Model на собранных экспертных данных.\n",
    "- Запускаем модель на окружение, собираем наблюдения.\n",
    "- Затем мы просим эксперта (человека) отметить, какие действия нужно совершать в полученных наблюдениях (по сути используем __policy_fn__).\n",
    "- Создаем новую коллекцию помеченных и экспертных данных.\n",
    "- Потворяем."
   ]
  },
  {
   "attachments": {
    "image.png": {
     "image/png": "[encoded data removed]"
    }
   },
   "cell_type": "markdown",
   "metadata": {},
   "source": [
    "![image.png](attachment:image.png)"
   ]
  },
  {
   "cell_type": "code",
   "execution_count": 8,
   "metadata": {},
   "outputs": [],
   "source": [
    "with tf.Session():\n",
    "    DAgger_iter=20\n",
    "    render=False\n",
    "    # DAgger loop\n",
    "    for i in range(DAgger_iter):\n",
    "        # reset in each iteration\n",
    "        new_obs = []\n",
    "        new_actions = []\n",
    "        obs = env.reset()\n",
    "        done = False\n",
    "        # collect data from model and expert\n",
    "        while not done:\n",
    "            # get an action from the model\n",
    "            ### Ваш код здесь - испольузуем обученную модель ###\n",
    "            action = cloner.sample(obs)\n",
    "            \n",
    "            obs, _, done, _ = env.step(action)\n",
    "            if render:\n",
    "                env.render()\n",
    "            # get the expert action for the same input\n",
    "            ### Ваш код здесь - используем policy_fn!! ###\n",
    "            corrected_action = policy_fn(obs[None,:])\n",
    "            \n",
    "            # append the observation and expert action to the data set\n",
    "            new_obs.append(obs)\n",
    "            new_actions.append(corrected_action)\n",
    "        # re-order the data\n",
    "        x = np.concatenate((x, obs[None, :]), axis = 0)\n",
    "        y = np.concatenate((y, corrected_action[None, :]), axis = 0)\n",
    "        # train the model on the collected data\n",
    "        ### Ваш код здесь - дообучаем модель ###\n",
    "        #cloner.train...\n",
    "        cloner.train(train_data = x, test_data = y)"
   ]
  },
  {
   "cell_type": "markdown",
   "metadata": {},
   "source": [
    "### Проверяем работу"
   ]
  },
  {
   "cell_type": "code",
   "execution_count": 9,
   "metadata": {},
   "outputs": [
    {
     "name": "stdout",
     "output_type": "stream",
     "text": [
      "mean return 328.47880344274944\n",
      "std of return 20.50477331513599\n"
     ]
    }
   ],
   "source": [
    "num_eval_rollouts=20\n",
    "# loop over runouts\n",
    "returns=[]\n",
    "for i in range(num_eval_rollouts):\n",
    "    # reset variables in each iteration\n",
    "    totalr=0\n",
    "    done=False\n",
    "    obs=env.reset()\n",
    "    # loop until the end of the episode\n",
    "    while not done:\n",
    "        # get an action from the trained model (output for specific observation as input)\n",
    "        action=cloner.sample(obs)\n",
    "        # implement the action\n",
    "        obs,r,done,_=env.step(action)\n",
    "        env.render()\n",
    "        totalr+=r\n",
    "    returns.append(totalr)\n",
    "print('mean return', np.mean(returns))\n",
    "print('std of return', np.std(returns))"
   ]
  },
  {
   "cell_type": "markdown",
   "metadata": {},
   "source": [
    "__Задание 2.1.__ Проверьте работу DAagger на всех задачах MoJoCo - укажите для какой задачи он работает лучше, чем простое клонирование. Покажите это на графиках."
   ]
  },
  {
   "cell_type": "markdown",
   "metadata": {},
   "source": [
    "### Humanoid-V2"
   ]
  },
  {
   "cell_type": "code",
   "execution_count": 125,
   "metadata": {},
   "outputs": [
    {
     "data": {
      "image/png": "[encoded data removed]",
      "text/plain": [
       "<Figure size 720x216 with 1 Axes>"
      ]
     },
     "metadata": {},
     "output_type": "display_data"
    }
   ],
   "source": [
    "fig, ax = plt.subplots(figsize=(10, 3))\n",
    "\n",
    "algorithms = ('BC', 'Dagger')\n",
    "y_pos = np.arange(len(algorithms))\n",
    "outputs = list(np.around(np.array([rollout_returns[-1], np.mean(returns)]),2))\n",
    "width = 0.65\n",
    "ax.barh(y_pos, outputs, width, align='center',\n",
    "        color='blue', edgecolor = 'black')\n",
    "ax.set_yticks(y_pos)\n",
    "ax.set_yticklabels(algorithms)\n",
    "ax.invert_yaxis()  # labels read top-to-bottom\n",
    "ax.set(xlim=(0, 250), ylabel=\"\",\n",
    "       xlabel=\"Totalr(mean)\")\n",
    "ax.set_title('BC VS Dagger')\n",
    "\n",
    "for i, v in enumerate(outputs):\n",
    "    ax.text(v, i, str(v), color='black', fontweight='bold')\n",
    "plt.show()"
   ]
  },
  {
   "cell_type": "markdown",
   "metadata": {},
   "source": [
    "#### Для среды Humanoid-V2 обычный BC работает лучше, чем Dagger"
   ]
  },
  {
   "cell_type": "markdown",
   "metadata": {},
   "source": [
    "### Hopper-v2"
   ]
  },
  {
   "cell_type": "code",
   "execution_count": 136,
   "metadata": {},
   "outputs": [
    {
     "data": {
      "image/png": "[encoded data removed]",
      "text/plain": [
       "<Figure size 720x216 with 1 Axes>"
      ]
     },
     "metadata": {},
     "output_type": "display_data"
    }
   ],
   "source": [
    "fig, ax = plt.subplots(figsize=(10, 3))\n",
    "\n",
    "algorithms = ('BC', 'Dagger')\n",
    "y_pos = np.arange(len(algorithms))\n",
    "outputs = list(np.around(np.array([rollout_returns[-1], np.mean(returns)]),2))\n",
    "width = 0.65\n",
    "ax.barh(y_pos, outputs, width, align='center',\n",
    "        color='blue', edgecolor = 'black')\n",
    "ax.set_yticks(y_pos)\n",
    "ax.set_yticklabels(algorithms)\n",
    "ax.invert_yaxis()  # labels read top-to-bottom\n",
    "ax.set(xlim=(0, 350), ylabel=\"\",\n",
    "       xlabel=\"Totalr(mean)\")\n",
    "ax.set_title('BC VS Dagger')\n",
    "\n",
    "for i, v in enumerate(outputs):\n",
    "    ax.text(v, i, str(v), color='black', fontweight='bold')\n",
    "plt.show()"
   ]
  },
  {
   "cell_type": "markdown",
   "metadata": {},
   "source": [
    "### Walker2d-v2"
   ]
  },
  {
   "cell_type": "code",
   "execution_count": 13,
   "metadata": {},
   "outputs": [
    {
     "data": {
      "image/png": "[encoded data removed]",
      "text/plain": [
       "<Figure size 720x216 with 1 Axes>"
      ]
     },
     "metadata": {},
     "output_type": "display_data"
    }
   ],
   "source": [
    "fig, ax = plt.subplots(figsize=(10, 3))\n",
    "\n",
    "algorithms = ('BC', 'Dagger')\n",
    "y_pos = np.arange(len(algorithms))\n",
    "outputs = list(np.around(np.array([rollout_returns[-1], np.mean(returns)]),2))\n",
    "width = 0.65\n",
    "ax.barh(y_pos, outputs, width, align='center',\n",
    "        color='blue', edgecolor = 'black')\n",
    "ax.set_yticks(y_pos)\n",
    "ax.set_yticklabels(algorithms)\n",
    "ax.invert_yaxis()  # labels read top-to-bottom\n",
    "ax.set(xlim=(0, 360), ylabel=\"\",\n",
    "       xlabel=\"Totalr(mean)\")\n",
    "ax.set_title('BC VS Dagger')\n",
    "\n",
    "for i, v in enumerate(outputs):\n",
    "    ax.text(v, i, str(v), color='black', fontweight='bold')\n",
    "plt.show()"
   ]
  },
  {
   "cell_type": "markdown",
   "metadata": {},
   "source": [
    "#### Для сред Hopper-v2 и Walker2d-v2 Dagger работает лучше, чем обычный BC"
   ]
  }
 ],
 "metadata": {
  "kernelspec": {
   "display_name": "Python 3",
   "language": "python",
   "name": "python3"
  },
  "language_info": {
   "codemirror_mode": {
    "name": "ipython",
    "version": 3
   },
   "file_extension": ".py",
   "mimetype": "text/x-python",
   "name": "python",
   "nbconvert_exporter": "python",
   "pygments_lexer": "ipython3",
   "version": "3.6.5"
  }
 },
 "nbformat": 4,
 "nbformat_minor": 2
}
