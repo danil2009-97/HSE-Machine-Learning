{
  "nbformat": 4,
  "nbformat_minor": 0,
  "metadata": {
    "colab": {
      "name": "_hw_1.ipynb",
      "version": "0.3.2",
      "provenance": [],
      "collapsed_sections": []
    },
    "kernelspec": {
      "name": "python2",
      "display_name": "Python 2"
    },
    "accelerator": "GPU"
  },
  "cells": [
    {
      "metadata": {
        "id": "lO-yu6BQRNT2",
        "colab_type": "text"
      },
      "cell_type": "markdown",
      "source": [
        "# Imports "
      ]
    },
    {
      "metadata": {
        "ExecuteTime": {
          "end_time": "2018-11-07T16:08:15.388798Z",
          "start_time": "2018-11-07T16:08:15.081241Z"
        },
        "id": "YHvI41sqRNT-",
        "colab_type": "code",
        "colab": {}
      },
      "cell_type": "code",
      "source": [
        "import zipfile\n",
        "import numpy as np\n",
        "import pandas as pd\n",
        "import os\n",
        "import tqdm\n",
        "import matplotlib \n",
        "%matplotlib inline\n",
        "import matplotlib.pyplot as plt\n",
        "import csv"
      ],
      "execution_count": 0,
      "outputs": []
    },
    {
      "metadata": {
        "id": "a5jjcdpERNUI",
        "colab_type": "text"
      },
      "cell_type": "markdown",
      "source": [
        "# Download data from Kaggle"
      ]
    },
    {
      "metadata": {
        "id": "UzEbhZdBRNUL",
        "colab_type": "code",
        "outputId": "8cda0c3d-262c-464e-fa87-1c59c53fa8fa",
        "colab": {
          "base_uri": "https://localhost:8080/",
          "height": 445
        }
      },
      "cell_type": "code",
      "source": [
        "# we need to use python 3 version of Kaggle!\n",
        "# remove python 2 version with `pip uninstall kaggle`\n",
        "! pip3 install kaggle --upgrade"
      ],
      "execution_count": 0,
      "outputs": [
        {
          "output_type": "stream",
          "text": [
            "Collecting kaggle\n",
            "\u001b[?25l  Downloading https://files.pythonhosted.org/packages/83/9b/ac57e15fbb239c6793c8d0b7dfd1a4c4a025eaa9f791b5388a7afb515aed/kaggle-1.5.0.tar.gz (53kB)\n",
            "\r\u001b[K    19% |██████▏                         | 10kB 16.6MB/s eta 0:00:01\r\u001b[K    38% |████████████▎                   | 20kB 4.8MB/s eta 0:00:01\r\u001b[K    57% |██████████████████▌             | 30kB 6.7MB/s eta 0:00:01\r\u001b[K    77% |████████████████████████▋       | 40kB 4.3MB/s eta 0:00:01\r\u001b[K    96% |██████████████████████████████▉ | 51kB 5.2MB/s eta 0:00:01\r\u001b[K    100% |████████████████████████████████| 61kB 5.3MB/s \n",
            "\u001b[?25hRequirement already satisfied, skipping upgrade: urllib3<1.23.0,>=1.15 in /usr/local/lib/python3.6/dist-packages (from kaggle) (1.22)\n",
            "Requirement already satisfied, skipping upgrade: six>=1.10 in /usr/local/lib/python3.6/dist-packages (from kaggle) (1.11.0)\n",
            "Requirement already satisfied, skipping upgrade: certifi in /usr/local/lib/python3.6/dist-packages (from kaggle) (2018.10.15)\n",
            "Requirement already satisfied, skipping upgrade: python-dateutil in /usr/local/lib/python3.6/dist-packages (from kaggle) (2.5.3)\n",
            "Requirement already satisfied, skipping upgrade: requests in /usr/local/lib/python3.6/dist-packages (from kaggle) (2.18.4)\n",
            "Requirement already satisfied, skipping upgrade: tqdm in /usr/local/lib/python3.6/dist-packages (from kaggle) (4.28.1)\n",
            "Collecting python-slugify (from kaggle)\n",
            "  Downloading https://files.pythonhosted.org/packages/00/ad/c778a6df614b6217c30fe80045b365bfa08b5dd3cb02e8b37a6d25126781/python-slugify-1.2.6.tar.gz\n",
            "Requirement already satisfied, skipping upgrade: chardet<3.1.0,>=3.0.2 in /usr/local/lib/python3.6/dist-packages (from requests->kaggle) (3.0.4)\n",
            "Requirement already satisfied, skipping upgrade: idna<2.7,>=2.5 in /usr/local/lib/python3.6/dist-packages (from requests->kaggle) (2.6)\n",
            "Collecting Unidecode>=0.04.16 (from python-slugify->kaggle)\n",
            "\u001b[?25l  Downloading https://files.pythonhosted.org/packages/59/ef/67085e30e8bbcdd76e2f0a4ad8151c13a2c5bce77c85f8cad6e1f16fb141/Unidecode-1.0.22-py2.py3-none-any.whl (235kB)\n",
            "\u001b[K    100% |████████████████████████████████| 235kB 14.5MB/s \n",
            "\u001b[?25hBuilding wheels for collected packages: kaggle, python-slugify\n",
            "  Running setup.py bdist_wheel for kaggle ... \u001b[?25l-\b \b\\\b \bdone\n",
            "\u001b[?25h  Stored in directory: /root/.cache/pip/wheels/8b/21/3b/a0076243c6ae12a6215b2da515fe06b539aee7217b406e510e\n",
            "  Running setup.py bdist_wheel for python-slugify ... \u001b[?25l-\b \bdone\n",
            "\u001b[?25h  Stored in directory: /root/.cache/pip/wheels/e3/65/da/2045deea3098ed7471eca0e2460cfbd3fdfe8c1d6fa6fcac92\n",
            "Successfully built kaggle python-slugify\n",
            "Installing collected packages: Unidecode, python-slugify, kaggle\n",
            "Successfully installed Unidecode-1.0.22 kaggle-1.5.0 python-slugify-1.2.6\n"
          ],
          "name": "stdout"
        }
      ]
    },
    {
      "metadata": {
        "ExecuteTime": {
          "end_time": "2018-11-06T15:29:19.895974Z",
          "start_time": "2018-11-06T15:26:21.334564Z"
        },
        "id": "9gtX7mYXRNUU",
        "colab_type": "code",
        "outputId": "7d4b4ea8-5df8-4ef0-e941-dc9f258f8827",
        "colab": {
          "base_uri": "https://localhost:8080/",
          "height": 68
        }
      },
      "cell_type": "code",
      "source": [
        "# get <token> from https://www.kaggle.com/<user>/account, click \"Create New API Token\", open json file\n",
        "! KAGGLE_USERNAME=aqualtis KAGGLE_KEY=205947ed5e69caaa7393c44ede3ccbac kaggle competitions download -c quickdraw-doodle-recognition -f train_simplified.zip"
      ],
      "execution_count": 0,
      "outputs": [
        {
          "output_type": "stream",
          "text": [
            "Downloading train_simplified.zip to /content\n",
            "100% 7.37G/7.37G [01:24<00:00, 135MB/s]\n",
            "100% 7.37G/7.37G [01:24<00:00, 93.5MB/s]\n"
          ],
          "name": "stdout"
        }
      ]
    },
    {
      "metadata": {
        "ExecuteTime": {
          "end_time": "2018-11-07T16:08:31.048432Z",
          "start_time": "2018-11-07T16:08:31.004128Z"
        },
        "id": "yTHC6d71RNUg",
        "colab_type": "code",
        "colab": {}
      },
      "cell_type": "code",
      "source": [
        "# open zip file, will read everything from it\n",
        "zf = zipfile.ZipFile(\"train_simplified.zip\")"
      ],
      "execution_count": 0,
      "outputs": []
    },
    {
      "metadata": {
        "id": "lDk9edLpRNUn",
        "colab_type": "text"
      },
      "cell_type": "markdown",
      "source": [
        "# Data generators from disk (no need to store in RAM)"
      ]
    },
    {
      "metadata": {
        "ExecuteTime": {
          "end_time": "2018-11-07T16:09:00.917240Z",
          "start_time": "2018-11-07T16:09:00.906369Z"
        },
        "id": "HVdYfwEHRNUp",
        "colab_type": "code",
        "outputId": "99a755a8-a842-4618-f025-43bc0bb9e2c0",
        "colab": {
          "base_uri": "https://localhost:8080/",
          "height": 34
        }
      },
      "cell_type": "code",
      "source": [
        "class_labels = map(lambda x: x.replace(\".csv\", \"\"), zf.namelist())\n",
        "class_labels[:5]"
      ],
      "execution_count": 0,
      "outputs": [
        {
          "output_type": "execute_result",
          "data": {
            "text/plain": [
              "['fence', 'yoga', 'horse', 'sandwich', 'cat']"
            ]
          },
          "metadata": {
            "tags": []
          },
          "execution_count": 5
        }
      ]
    },
    {
      "metadata": {
        "ExecuteTime": {
          "end_time": "2018-11-07T16:09:01.213496Z",
          "start_time": "2018-11-07T16:09:01.203670Z"
        },
        "id": "F9z2jIFiRNUz",
        "colab_type": "code",
        "colab": {}
      },
      "cell_type": "code",
      "source": [
        "# loop through file eternally\n",
        "def get_eternal_csv_generator(fn, debug=False):\n",
        "    while True:\n",
        "        with zf.open(fn) as f:\n",
        "            f.readline()  # skip header\n",
        "            for line in csv.reader(f, delimiter=',', quotechar='\"'):\n",
        "                yield line[1], line[5]\n",
        "            if debug:\n",
        "                print (fn, \"is done, starting from the beginning...\")"
      ],
      "execution_count": 0,
      "outputs": []
    },
    {
      "metadata": {
        "ExecuteTime": {
          "end_time": "2018-11-07T16:09:01.651230Z",
          "start_time": "2018-11-07T16:09:01.642356Z"
        },
        "id": "IrOMrfWIRNU7",
        "colab_type": "code",
        "colab": {}
      },
      "cell_type": "code",
      "source": [
        "def raw_batch_generator(batch_size, debug=False):\n",
        "    generators = np.array([get_eternal_csv_generator(fn, debug) for fn in zf.namelist()])\n",
        "    while True:\n",
        "        random_indices = np.random.randint(0, len(generators), size=batch_size)\n",
        "        yield [gen.next() for gen in generators[random_indices]]\n",
        "        "
      ],
      "execution_count": 0,
      "outputs": []
    },
    {
      "metadata": {
        "id": "yBKWUbSQRNVB",
        "colab_type": "text"
      },
      "cell_type": "markdown",
      "source": [
        "# Images generator"
      ]
    },
    {
      "metadata": {
        "ExecuteTime": {
          "end_time": "2018-11-07T16:09:04.267262Z",
          "start_time": "2018-11-07T16:09:04.251004Z"
        },
        "id": "n9iwa9ouRNVF",
        "colab_type": "code",
        "colab": {}
      },
      "cell_type": "code",
      "source": [
        "# copy-paste from https://www.kaggle.com/jpmiller/image-based-cnn\n",
        "\n",
        "import ast\n",
        "from PIL import Image, ImageDraw\n",
        "import cv2\n",
        "\n",
        "IMG_SIZE = 64\n",
        "\n",
        "\n",
        "# faster conversion function\n",
        "def draw_it(strokes):\n",
        "    img = 255 * np.ones((256, 256), np.uint8)\n",
        "    for stroke in ast.literal_eval(strokes):\n",
        "        for i in range(len(stroke[0]) - 1):\n",
        "            _ = cv2.line(img, (stroke[0][i], stroke[1][i]), (stroke[0][i + 1], stroke[1][i + 1]), 0, 3)\n",
        "    return cv2.resize(img, (IMG_SIZE, IMG_SIZE))"
      ],
      "execution_count": 0,
      "outputs": []
    },
    {
      "metadata": {
        "ExecuteTime": {
          "end_time": "2018-11-07T16:09:07.131184Z",
          "start_time": "2018-11-07T16:09:07.120659Z"
        },
        "id": "HicS4QLzRNVN",
        "colab_type": "code",
        "colab": {}
      },
      "cell_type": "code",
      "source": [
        "def images_and_labels_generator(batch_size):\n",
        "    for batch in raw_batch_generator(batch_size):\n",
        "        batch_images = []\n",
        "        batch_labels = []\n",
        "        for e in batch:\n",
        "            batch_images.append(draw_it(e[0]))\n",
        "            batch_labels.append(e[1])\n",
        "        batch_images = np.stack(batch_images, axis=0)\n",
        "        yield batch_images, batch_labels"
      ],
      "execution_count": 0,
      "outputs": []
    },
    {
      "metadata": {
        "ExecuteTime": {
          "end_time": "2018-11-07T16:09:31.235828Z",
          "start_time": "2018-11-07T16:09:31.078072Z"
        },
        "id": "lpoEaCcpRNVW",
        "colab_type": "code",
        "outputId": "6af03bae-605f-4f77-dc16-b35f16a6a74a",
        "colab": {
          "base_uri": "https://localhost:8080/",
          "height": 280
        }
      },
      "cell_type": "code",
      "source": [
        "b = images_and_labels_generator(32).next()\n",
        "plt.imshow(b[0][10, :, :])\n",
        "plt.title(b[1][10])\n",
        "plt.show()"
      ],
      "execution_count": 0,
      "outputs": [
        {
          "output_type": "display_data",
          "data": {
            "image/png": "[encoded data removed]",
            "text/plain": [
              "<matplotlib.figure.Figure at 0x7ff6ffdaa690>"
            ]
          },
          "metadata": {
            "tags": []
          }
        }
      ]
    },
    {
      "metadata": {
        "ExecuteTime": {
          "end_time": "2018-11-06T22:00:38.205119Z",
          "start_time": "2018-11-06T22:00:38.199739Z"
        },
        "id": "yKi4IWr4RNVf",
        "colab_type": "text"
      },
      "cell_type": "markdown",
      "source": [
        "# Train simple network"
      ]
    },
    {
      "metadata": {
        "ExecuteTime": {
          "end_time": "2018-11-07T16:09:43.935122Z",
          "start_time": "2018-11-07T16:09:43.339804Z"
        },
        "id": "Fc9wMQHTRNVi",
        "colab_type": "code",
        "outputId": "a27dbb83-e932-42a8-cec4-a6118a708a38",
        "colab": {
          "base_uri": "https://localhost:8080/",
          "height": 34
        }
      },
      "cell_type": "code",
      "source": [
        "import tensorflow as tf\n",
        "import keras\n",
        "from keras import backend as K"
      ],
      "execution_count": 0,
      "outputs": [
        {
          "output_type": "stream",
          "text": [
            "Using TensorFlow backend.\n"
          ],
          "name": "stderr"
        }
      ]
    },
    {
      "metadata": {
        "ExecuteTime": {
          "end_time": "2018-11-07T16:10:14.627454Z",
          "start_time": "2018-11-07T16:10:14.614258Z"
        },
        "id": "ET2BsorFRNVr",
        "colab_type": "code",
        "colab": {}
      },
      "cell_type": "code",
      "source": [
        "# reset graph when you change architecture!\n",
        "def reset_tf_session():\n",
        "    curr_session = tf.get_default_session()\n",
        "    # close current session\n",
        "    if curr_session is not None:\n",
        "        curr_session.close()\n",
        "    # reset graph\n",
        "    K.clear_session()\n",
        "    # create new session\n",
        "    config = tf.ConfigProto()\n",
        "    config.gpu_options.allow_growth = True\n",
        "    s = tf.InteractiveSession(config=config)\n",
        "    K.set_session(s)\n",
        "    return s"
      ],
      "execution_count": 0,
      "outputs": []
    },
    {
      "metadata": {
        "ExecuteTime": {
          "end_time": "2018-11-07T16:10:20.833559Z",
          "start_time": "2018-11-07T16:10:20.820480Z"
        },
        "scrolled": false,
        "id": "yCSUU69QRNVx",
        "colab_type": "code",
        "outputId": "47365186-3aaf-470f-91ba-738ec12a3ad6",
        "colab": {
          "base_uri": "https://localhost:8080/",
          "height": 102
        }
      },
      "cell_type": "code",
      "source": [
        "NUM_CLASSES = len(class_labels)\n",
        "class_to_idx = {c: idx for idx, c in enumerate(class_labels)}\n",
        "class_to_idx.items()[:5]"
      ],
      "execution_count": 0,
      "outputs": [
        {
          "output_type": "execute_result",
          "data": {
            "text/plain": [
              "[('snowman', 134),\n",
              " ('eyeglasses', 254),\n",
              " ('ceiling fan', 18),\n",
              " ('camel', 90),\n",
              " ('stove', 119)]"
            ]
          },
          "metadata": {
            "tags": []
          },
          "execution_count": 13
        }
      ]
    },
    {
      "metadata": {
        "ExecuteTime": {
          "end_time": "2018-11-07T16:11:58.574802Z",
          "start_time": "2018-11-07T16:11:58.565415Z"
        },
        "id": "oi9KBoz_RNV6",
        "colab_type": "code",
        "colab": {}
      },
      "cell_type": "code",
      "source": [
        "def train_iterator(batch_size):\n",
        "    for batch in images_and_labels_generator(batch_size):\n",
        "        images = batch[0].astype('float32')\n",
        "        ### YOUR CODE HERE: normalize images!\n",
        "        \n",
        "        images = images / 255.0 - 0.5\n",
        "        \n",
        "        images = np.expand_dims(images, -1)\n",
        "        labels = keras.utils.to_categorical(map(class_to_idx.get, batch[1]), NUM_CLASSES)\n",
        "        yield images, labels"
      ],
      "execution_count": 0,
      "outputs": []
    },
    {
      "metadata": {
        "ExecuteTime": {
          "end_time": "2018-11-07T16:11:59.923327Z",
          "start_time": "2018-11-07T16:11:59.898171Z"
        },
        "scrolled": true,
        "id": "43hF1B3YRNWD",
        "colab_type": "code",
        "outputId": "670c86f6-15d0-4a2d-9e1c-88f802bd51d7",
        "colab": {
          "base_uri": "https://localhost:8080/",
          "height": 51
        }
      },
      "cell_type": "code",
      "source": [
        "sample = train_iterator(32).next()\n",
        "print sample[0].shape\n",
        "print sample[1].shape"
      ],
      "execution_count": 0,
      "outputs": [
        {
          "output_type": "stream",
          "text": [
            "(32, 64, 64, 1)\n",
            "(32, 340)\n"
          ],
          "name": "stdout"
        }
      ]
    },
    {
      "metadata": {
        "ExecuteTime": {
          "end_time": "2018-11-07T16:12:13.491949Z",
          "start_time": "2018-11-07T16:12:13.485091Z"
        },
        "id": "DTo9pIdqRNWO",
        "colab_type": "code",
        "colab": {}
      },
      "cell_type": "code",
      "source": [
        "# import necessary building blocks\n",
        "from keras.models import Sequential\n",
        "from keras.layers import Conv2D, MaxPooling2D, Flatten, Dense, Activation, Dropout, GlobalAveragePooling2D, \\\n",
        "    BatchNormalization"
      ],
      "execution_count": 0,
      "outputs": []
    },
    {
      "metadata": {
        "ExecuteTime": {
          "end_time": "2018-11-07T16:15:15.162847Z",
          "start_time": "2018-11-07T16:15:15.148961Z"
        },
        "id": "6bQuOKaeRNWT",
        "colab_type": "code",
        "colab": {}
      },
      "cell_type": "code",
      "source": [
        "def make_model():\n",
        "    \"\"\"\n",
        "    Define your model architecture here.\n",
        "    Returns `Sequential` model.\n",
        "    \"\"\"\n",
        "    model = Sequential()\n",
        "\n",
        "    ### YOUR CODE HERE: replace with a better model! Batch normalization really helps!\n",
        "    \n",
        "    model.add(Conv2D(64, (7, 7), padding='same', activation='elu', input_shape=(IMG_SIZE, IMG_SIZE, 1)))\n",
        "    model.add(BatchNormalization())\n",
        "    model.add(MaxPooling2D(pool_size=(2, 2)))\n",
        "\n",
        "    model.add(Conv2D(128, (3, 3), padding='same', activation='elu'))\n",
        "    model.add(BatchNormalization())\n",
        "    model.add(Conv2D(128, (3, 3), padding='same', activation='elu'))\n",
        "    model.add(BatchNormalization())\n",
        "    model.add(MaxPooling2D(pool_size=(2, 2)))\n",
        "\n",
        "    \n",
        "    model.add(Conv2D(256, (3, 3), padding='same', activation='elu'))\n",
        "    model.add(BatchNormalization())\n",
        "    model.add(Conv2D(256, (3, 3), padding='same', activation='elu'))\n",
        "    model.add(BatchNormalization())\n",
        "\n",
        "    model.add(Conv2D(256, (3, 3), padding='same', activation='elu'))\n",
        "    model.add(BatchNormalization())\n",
        "    model.add(Conv2D(256, (3, 3), padding='same', activation='elu'))\n",
        "    model.add(BatchNormalization())\n",
        "    model.add(MaxPooling2D(pool_size=(2, 2)))\n",
        "\n",
        "    \n",
        "    model.add(Conv2D(512, (3, 3), padding='same', activation='elu'))\n",
        "    model.add(BatchNormalization())\n",
        "    model.add(Conv2D(512, (3, 3), padding='same', activation='elu'))\n",
        "    model.add(BatchNormalization())\n",
        "    model.add(Conv2D(512, (3, 3), padding='same', activation='elu'))\n",
        "    model.add(BatchNormalization())\n",
        "    model.add(Conv2D(512, (3, 3), padding='same', activation='elu'))\n",
        "    model.add(BatchNormalization())\n",
        "    \n",
        "    model.add(GlobalAveragePooling2D()) \n",
        "\n",
        "    model.add(Dropout(0.2))\n",
        "    model.add(Dense(NUM_CLASSES, activation=\"softmax\"))\n",
        "    \n",
        "    return model"
      ],
      "execution_count": 0,
      "outputs": []
    },
    {
      "metadata": {
        "ExecuteTime": {
          "end_time": "2018-11-07T16:15:16.796282Z",
          "start_time": "2018-11-07T16:15:16.726472Z"
        },
        "id": "cJQmrsecRNWY",
        "colab_type": "code",
        "outputId": "28734853-360e-48a7-ef55-a553e78c772e",
        "colab": {
          "base_uri": "https://localhost:8080/",
          "height": 1125
        }
      },
      "cell_type": "code",
      "source": [
        "# describe model\n",
        "s = reset_tf_session()  # clear default graph\n",
        "model = make_model()\n",
        "model.summary()"
      ],
      "execution_count": 0,
      "outputs": [
        {
          "output_type": "stream",
          "text": [
            "Exception tensorflow.python.framework.errors_impl.CancelledError: CancelledError() in <bound method _Callable.__del__ of <tensorflow.python.client.session._Callable object at 0x7ff69af92810>> ignored\n"
          ],
          "name": "stderr"
        },
        {
          "output_type": "stream",
          "text": [
            "_________________________________________________________________\n",
            "Layer (type)                 Output Shape              Param #   \n",
            "=================================================================\n",
            "conv2d_1 (Conv2D)            (None, 64, 64, 64)        3200      \n",
            "_________________________________________________________________\n",
            "batch_normalization_1 (Batch (None, 64, 64, 64)        256       \n",
            "_________________________________________________________________\n",
            "max_pooling2d_1 (MaxPooling2 (None, 32, 32, 64)        0         \n",
            "_________________________________________________________________\n",
            "conv2d_2 (Conv2D)            (None, 32, 32, 128)       73856     \n",
            "_________________________________________________________________\n",
            "batch_normalization_2 (Batch (None, 32, 32, 128)       512       \n",
            "_________________________________________________________________\n",
            "conv2d_3 (Conv2D)            (None, 32, 32, 128)       147584    \n",
            "_________________________________________________________________\n",
            "batch_normalization_3 (Batch (None, 32, 32, 128)       512       \n",
            "_________________________________________________________________\n",
            "max_pooling2d_2 (MaxPooling2 (None, 16, 16, 128)       0         \n",
            "_________________________________________________________________\n",
            "conv2d_4 (Conv2D)            (None, 16, 16, 256)       295168    \n",
            "_________________________________________________________________\n",
            "batch_normalization_4 (Batch (None, 16, 16, 256)       1024      \n",
            "_________________________________________________________________\n",
            "conv2d_5 (Conv2D)            (None, 16, 16, 256)       590080    \n",
            "_________________________________________________________________\n",
            "batch_normalization_5 (Batch (None, 16, 16, 256)       1024      \n",
            "_________________________________________________________________\n",
            "conv2d_6 (Conv2D)            (None, 16, 16, 256)       590080    \n",
            "_________________________________________________________________\n",
            "batch_normalization_6 (Batch (None, 16, 16, 256)       1024      \n",
            "_________________________________________________________________\n",
            "conv2d_7 (Conv2D)            (None, 16, 16, 256)       590080    \n",
            "_________________________________________________________________\n",
            "batch_normalization_7 (Batch (None, 16, 16, 256)       1024      \n",
            "_________________________________________________________________\n",
            "max_pooling2d_3 (MaxPooling2 (None, 8, 8, 256)         0         \n",
            "_________________________________________________________________\n",
            "conv2d_8 (Conv2D)            (None, 8, 8, 512)         1180160   \n",
            "_________________________________________________________________\n",
            "batch_normalization_8 (Batch (None, 8, 8, 512)         2048      \n",
            "_________________________________________________________________\n",
            "conv2d_9 (Conv2D)            (None, 8, 8, 512)         2359808   \n",
            "_________________________________________________________________\n",
            "batch_normalization_9 (Batch (None, 8, 8, 512)         2048      \n",
            "_________________________________________________________________\n",
            "conv2d_10 (Conv2D)           (None, 8, 8, 512)         2359808   \n",
            "_________________________________________________________________\n",
            "batch_normalization_10 (Batc (None, 8, 8, 512)         2048      \n",
            "_________________________________________________________________\n",
            "conv2d_11 (Conv2D)           (None, 8, 8, 512)         2359808   \n",
            "_________________________________________________________________\n",
            "batch_normalization_11 (Batc (None, 8, 8, 512)         2048      \n",
            "_________________________________________________________________\n",
            "global_average_pooling2d_1 ( (None, 512)               0         \n",
            "_________________________________________________________________\n",
            "dropout_1 (Dropout)          (None, 512)               0         \n",
            "_________________________________________________________________\n",
            "dense_1 (Dense)              (None, 340)               174420    \n",
            "=================================================================\n",
            "Total params: 10,737,620\n",
            "Trainable params: 10,730,836\n",
            "Non-trainable params: 6,784\n",
            "_________________________________________________________________\n"
          ],
          "name": "stdout"
        }
      ]
    },
    {
      "metadata": {
        "ExecuteTime": {
          "end_time": "2018-11-07T16:21:07.829654Z",
          "start_time": "2018-11-07T16:21:07.822122Z"
        },
        "id": "y6o4CrfKRNWd",
        "colab_type": "code",
        "colab": {}
      },
      "cell_type": "code",
      "source": [
        "# custom metrics we need\n",
        "from keras.metrics import categorical_accuracy, top_k_categorical_accuracy\n",
        "\n",
        "def top_3_accuracy(y_true, y_pred):\n",
        "    return top_k_categorical_accuracy(y_true, y_pred, k=3)"
      ],
      "execution_count": 0,
      "outputs": []
    },
    {
      "metadata": {
        "ExecuteTime": {
          "end_time": "2018-11-07T16:16:27.284265Z",
          "start_time": "2018-11-07T16:16:27.184294Z"
        },
        "id": "eJDwoNloRNWh",
        "colab_type": "code",
        "colab": {}
      },
      "cell_type": "code",
      "source": [
        "BATCH_SIZE = 420\n",
        "STEPS_PER_EPOCH = 150\n",
        "EPOCHS = 120\n",
        "\n",
        "s = reset_tf_session()  # clear default graph\n",
        "model = make_model()  # define our model\n",
        "\n",
        "# prepare model for fitting (loss, optimizer, etc)\n",
        "model.compile(\n",
        "    loss='categorical_crossentropy',\n",
        "    optimizer=keras.optimizers.adam(lr = 1.0e-4,clipnorm=5.),  # gradient clipping just in case\n",
        "    metrics=[categorical_accuracy, top_3_accuracy]  # report top 3 accuracy, correlates with MAP@3!\n",
        ")"
      ],
      "execution_count": 0,
      "outputs": []
    },
    {
      "metadata": {
        "ExecuteTime": {
          "end_time": "2018-11-07T16:20:03.725667Z",
          "start_time": "2018-11-07T16:20:03.715510Z"
        },
        "id": "k3oWj7pqRNWr",
        "colab_type": "code",
        "colab": {}
      },
      "cell_type": "code",
      "source": [
        "# for saving the model after every epoch\n",
        "from keras.models import save_model\n",
        "\n",
        "class ModelSaveCallback(keras.callbacks.Callback):\n",
        "    def __init__(self, file_name):\n",
        "        super(ModelSaveCallback, self).__init__()\n",
        "        self.file_name = file_name\n",
        "\n",
        "    def on_epoch_end(self, epoch, logs=None):\n",
        "        model_filename = self.file_name.format(epoch)\n",
        "        save_model(self.model, model_filename)\n",
        "        print(\"Model saved in {}\".format(model_filename))"
      ],
      "execution_count": 0,
      "outputs": []
    },
    {
      "metadata": {
        "ExecuteTime": {
          "end_time": "2018-11-07T16:22:04.352396Z",
          "start_time": "2018-11-07T16:22:03.726954Z"
        },
        "id": "l4iR0AF-RNWw",
        "colab_type": "code",
        "colab": {}
      },
      "cell_type": "code",
      "source": [
        "last_finished_epoch = 0\n",
        "\n",
        "# you can continue from snapshot!!!\n",
        "# from keras.models import load_model\n",
        "# s = reset_tf_session()\n",
        "# last_finished_epoch = 2\n",
        "# model = load_model(\"model_{}\".format(last_finished_epoch), \n",
        "#                    custom_objects={\"top_3_accuracy\": top_3_accuracy})"
      ],
      "execution_count": 0,
      "outputs": []
    },
    {
      "metadata": {
        "ExecuteTime": {
          "end_time": "2018-11-07T16:22:12.823711Z",
          "start_time": "2018-11-07T16:22:08.154274Z"
        },
        "id": "6epqxjrxRNWz",
        "colab_type": "code",
        "outputId": "444c0b6e-cf00-4353-fde9-d00b3a0c6cf9",
        "colab": {
          "base_uri": "https://localhost:8080/",
          "height": 6154
        }
      },
      "cell_type": "code",
      "source": [
        "# fit the model with our eternal generator!\n",
        "model.fit_generator(\n",
        "    train_iterator(BATCH_SIZE), \n",
        "    steps_per_epoch=STEPS_PER_EPOCH,\n",
        "    epochs=EPOCHS,\n",
        "    callbacks=[ModelSaveCallback(\"model_{}\")],\n",
        "    verbose=1,\n",
        "    initial_epoch=last_finished_epoch\n",
        ")"
      ],
      "execution_count": 0,
      "outputs": [
        {
          "output_type": "stream",
          "text": [
            "Epoch 1/120\n",
            "150/150 [==============================] - 183s 1s/step - loss: 4.6013 - categorical_accuracy: 0.1139 - top_3_accuracy: 0.2210\n",
            "Model saved in model_0\n",
            "Epoch 2/120\n",
            "150/150 [==============================] - 181s 1s/step - loss: 3.4916 - categorical_accuracy: 0.2718 - top_3_accuracy: 0.4528\n",
            "Model saved in model_1\n",
            "Epoch 3/120\n",
            "150/150 [==============================] - 181s 1s/step - loss: 2.9203 - categorical_accuracy: 0.3677 - top_3_accuracy: 0.5680\n",
            "Model saved in model_2\n",
            "Epoch 4/120\n",
            "150/150 [==============================] - 181s 1s/step - loss: 2.5725 - categorical_accuracy: 0.4299 - top_3_accuracy: 0.6342\n",
            "Model saved in model_3\n",
            "Epoch 5/120\n",
            "150/150 [==============================] - 181s 1s/step - loss: 2.3151 - categorical_accuracy: 0.4776 - top_3_accuracy: 0.6818\n",
            "Model saved in model_4\n",
            "Epoch 6/120\n",
            "150/150 [==============================] - 181s 1s/step - loss: 2.1441 - categorical_accuracy: 0.5081 - top_3_accuracy: 0.7143\n",
            "Model saved in model_5\n",
            "Epoch 7/120\n",
            "150/150 [==============================] - 181s 1s/step - loss: 2.0081 - categorical_accuracy: 0.5333 - top_3_accuracy: 0.7382\n",
            "Model saved in model_6\n",
            "Epoch 8/120\n",
            "150/150 [==============================] - 181s 1s/step - loss: 1.9024 - categorical_accuracy: 0.5554 - top_3_accuracy: 0.7527\n",
            "Model saved in model_7\n",
            "Epoch 9/120\n",
            "150/150 [==============================] - 181s 1s/step - loss: 1.8305 - categorical_accuracy: 0.5703 - top_3_accuracy: 0.7667\n",
            "Model saved in model_8\n",
            "Epoch 10/120\n",
            "150/150 [==============================] - 181s 1s/step - loss: 1.7390 - categorical_accuracy: 0.5881 - top_3_accuracy: 0.7823\n",
            "Model saved in model_9\n",
            "Epoch 11/120\n",
            "150/150 [==============================] - 181s 1s/step - loss: 1.7051 - categorical_accuracy: 0.5933 - top_3_accuracy: 0.7866\n",
            "Model saved in model_10\n",
            "Epoch 12/120\n",
            "150/150 [==============================] - 181s 1s/step - loss: 1.6519 - categorical_accuracy: 0.6059 - top_3_accuracy: 0.7929\n",
            "Model saved in model_11\n",
            "Epoch 13/120\n",
            "150/150 [==============================] - 181s 1s/step - loss: 1.6142 - categorical_accuracy: 0.6128 - top_3_accuracy: 0.8000\n",
            "Model saved in model_12\n",
            "Epoch 14/120\n",
            "150/150 [==============================] - 181s 1s/step - loss: 1.5744 - categorical_accuracy: 0.6230 - top_3_accuracy: 0.8073\n",
            "Model saved in model_13\n",
            "Epoch 15/120\n",
            "150/150 [==============================] - 181s 1s/step - loss: 1.5301 - categorical_accuracy: 0.6303 - top_3_accuracy: 0.8149\n",
            "Model saved in model_14\n",
            "Epoch 16/120\n",
            "150/150 [==============================] - 181s 1s/step - loss: 1.5042 - categorical_accuracy: 0.6344 - top_3_accuracy: 0.8178\n",
            "Model saved in model_15\n",
            "Epoch 17/120\n",
            "150/150 [==============================] - 181s 1s/step - loss: 1.4743 - categorical_accuracy: 0.6414 - top_3_accuracy: 0.8229\n",
            "Model saved in model_16\n",
            "Epoch 18/120\n",
            "150/150 [==============================] - 181s 1s/step - loss: 1.4550 - categorical_accuracy: 0.6468 - top_3_accuracy: 0.8254\n",
            "Model saved in model_17\n",
            "Epoch 19/120\n",
            "150/150 [==============================] - 181s 1s/step - loss: 1.4308 - categorical_accuracy: 0.6527 - top_3_accuracy: 0.8280\n",
            "Model saved in model_18\n",
            "Epoch 20/120\n",
            "150/150 [==============================] - 181s 1s/step - loss: 1.4070 - categorical_accuracy: 0.6549 - top_3_accuracy: 0.8340\n",
            "Model saved in model_19\n",
            "Epoch 21/120\n",
            "150/150 [==============================] - 181s 1s/step - loss: 1.3823 - categorical_accuracy: 0.6615 - top_3_accuracy: 0.8377\n",
            "Model saved in model_20\n",
            "Epoch 22/120\n",
            "150/150 [==============================] - 181s 1s/step - loss: 1.3688 - categorical_accuracy: 0.6621 - top_3_accuracy: 0.8405\n",
            "Model saved in model_21\n",
            "Epoch 23/120\n",
            "150/150 [==============================] - 181s 1s/step - loss: 1.3651 - categorical_accuracy: 0.6655 - top_3_accuracy: 0.8396\n",
            "Model saved in model_22\n",
            "Epoch 24/120\n",
            "150/150 [==============================] - 181s 1s/step - loss: 1.3420 - categorical_accuracy: 0.6681 - top_3_accuracy: 0.8437\n",
            "Model saved in model_23\n",
            "Epoch 25/120\n",
            "150/150 [==============================] - 181s 1s/step - loss: 1.3304 - categorical_accuracy: 0.6718 - top_3_accuracy: 0.8443\n",
            "Model saved in model_24\n",
            "Epoch 26/120\n",
            "150/150 [==============================] - 181s 1s/step - loss: 1.2997 - categorical_accuracy: 0.6791 - top_3_accuracy: 0.8497\n",
            "Model saved in model_25\n",
            "Epoch 27/120\n",
            "150/150 [==============================] - 181s 1s/step - loss: 1.2995 - categorical_accuracy: 0.6801 - top_3_accuracy: 0.8492\n",
            "Model saved in model_26\n",
            "Epoch 28/120\n",
            "150/150 [==============================] - 181s 1s/step - loss: 1.3027 - categorical_accuracy: 0.6782 - top_3_accuracy: 0.8509\n",
            "Model saved in model_27\n",
            "Epoch 29/120\n",
            "150/150 [==============================] - 181s 1s/step - loss: 1.2799 - categorical_accuracy: 0.6849 - top_3_accuracy: 0.8531\n",
            "Model saved in model_28\n",
            "Epoch 30/120\n",
            "150/150 [==============================] - 181s 1s/step - loss: 1.2668 - categorical_accuracy: 0.6859 - top_3_accuracy: 0.8555\n",
            "Model saved in model_29\n",
            "Epoch 31/120\n",
            "150/150 [==============================] - 181s 1s/step - loss: 1.2564 - categorical_accuracy: 0.6904 - top_3_accuracy: 0.8550\n",
            "Model saved in model_30\n",
            "Epoch 32/120\n",
            "150/150 [==============================] - 181s 1s/step - loss: 1.2614 - categorical_accuracy: 0.6865 - top_3_accuracy: 0.8556\n",
            "Model saved in model_31\n",
            "Epoch 33/120\n",
            "150/150 [==============================] - 181s 1s/step - loss: 1.2417 - categorical_accuracy: 0.6918 - top_3_accuracy: 0.8584\n",
            "Model saved in model_32\n",
            "Epoch 34/120\n",
            "150/150 [==============================] - 181s 1s/step - loss: 1.2366 - categorical_accuracy: 0.6906 - top_3_accuracy: 0.8587\n",
            "Model saved in model_33\n",
            "Epoch 35/120\n",
            "150/150 [==============================] - 181s 1s/step - loss: 1.2374 - categorical_accuracy: 0.6931 - top_3_accuracy: 0.8599\n",
            "Model saved in model_34\n",
            "Epoch 36/120\n",
            "150/150 [==============================] - 181s 1s/step - loss: 1.2247 - categorical_accuracy: 0.6943 - top_3_accuracy: 0.8623\n",
            "Model saved in model_35\n",
            "Epoch 37/120\n",
            "150/150 [==============================] - 181s 1s/step - loss: 1.2223 - categorical_accuracy: 0.6979 - top_3_accuracy: 0.8634\n",
            "Model saved in model_36\n",
            "Epoch 38/120\n",
            "150/150 [==============================] - 181s 1s/step - loss: 1.2189 - categorical_accuracy: 0.6960 - top_3_accuracy: 0.8622\n",
            "Model saved in model_37\n",
            "Epoch 39/120\n",
            "150/150 [==============================] - 181s 1s/step - loss: 1.1925 - categorical_accuracy: 0.7015 - top_3_accuracy: 0.8657\n",
            "Model saved in model_38\n",
            "Epoch 40/120\n",
            "150/150 [==============================] - 181s 1s/step - loss: 1.2073 - categorical_accuracy: 0.7007 - top_3_accuracy: 0.8650\n",
            "Model saved in model_39\n",
            "Epoch 41/120\n",
            "150/150 [==============================] - 181s 1s/step - loss: 1.1857 - categorical_accuracy: 0.7037 - top_3_accuracy: 0.8673\n",
            "Model saved in model_40\n",
            "Epoch 42/120\n",
            "150/150 [==============================] - 181s 1s/step - loss: 1.1825 - categorical_accuracy: 0.7046 - top_3_accuracy: 0.8688\n",
            "Model saved in model_41\n",
            "Epoch 43/120\n",
            "150/150 [==============================] - 181s 1s/step - loss: 1.1667 - categorical_accuracy: 0.7094 - top_3_accuracy: 0.8697\n",
            "Model saved in model_42\n",
            "Epoch 44/120\n",
            "150/150 [==============================] - 181s 1s/step - loss: 1.1788 - categorical_accuracy: 0.7072 - top_3_accuracy: 0.8671\n",
            "Model saved in model_43\n",
            "Epoch 45/120\n",
            "150/150 [==============================] - 181s 1s/step - loss: 1.1514 - categorical_accuracy: 0.7117 - top_3_accuracy: 0.8730\n",
            "Model saved in model_44\n",
            "Epoch 46/120\n",
            "150/150 [==============================] - 181s 1s/step - loss: 1.1528 - categorical_accuracy: 0.7117 - top_3_accuracy: 0.8715\n",
            "Model saved in model_45\n",
            "Epoch 47/120\n",
            "150/150 [==============================] - 181s 1s/step - loss: 1.1538 - categorical_accuracy: 0.7132 - top_3_accuracy: 0.8710\n",
            "Model saved in model_46\n",
            "Epoch 48/120\n",
            "150/150 [==============================] - 181s 1s/step - loss: 1.1498 - categorical_accuracy: 0.7127 - top_3_accuracy: 0.8722\n",
            "Model saved in model_47\n",
            "Epoch 49/120\n",
            "150/150 [==============================] - 181s 1s/step - loss: 1.1459 - categorical_accuracy: 0.7145 - top_3_accuracy: 0.8736\n",
            "Model saved in model_48\n",
            "Epoch 50/120\n",
            "150/150 [==============================] - 181s 1s/step - loss: 1.1345 - categorical_accuracy: 0.7145 - top_3_accuracy: 0.8740\n",
            "Model saved in model_49\n",
            "Epoch 51/120\n",
            "150/150 [==============================] - 181s 1s/step - loss: 1.1148 - categorical_accuracy: 0.7174 - top_3_accuracy: 0.8768\n",
            "Model saved in model_50\n",
            "Epoch 52/120\n",
            "150/150 [==============================] - 181s 1s/step - loss: 1.1317 - categorical_accuracy: 0.7145 - top_3_accuracy: 0.8743\n",
            "Model saved in model_51\n",
            "Epoch 53/120\n",
            "150/150 [==============================] - 181s 1s/step - loss: 1.1392 - categorical_accuracy: 0.7189 - top_3_accuracy: 0.8741\n",
            "Model saved in model_52\n",
            "Epoch 54/120\n",
            "150/150 [==============================] - 181s 1s/step - loss: 1.1267 - categorical_accuracy: 0.7175 - top_3_accuracy: 0.8755\n",
            "Model saved in model_53\n",
            "Epoch 55/120\n",
            "150/150 [==============================] - 181s 1s/step - loss: 1.1341 - categorical_accuracy: 0.7165 - top_3_accuracy: 0.8760\n",
            "Model saved in model_54\n",
            "Epoch 56/120\n",
            "150/150 [==============================] - 181s 1s/step - loss: 1.1028 - categorical_accuracy: 0.7219 - top_3_accuracy: 0.8785\n",
            "Model saved in model_55\n",
            "Epoch 57/120\n",
            "150/150 [==============================] - 181s 1s/step - loss: 1.1223 - categorical_accuracy: 0.7197 - top_3_accuracy: 0.8751\n",
            "Model saved in model_56\n",
            "Epoch 58/120\n",
            "150/150 [==============================] - 181s 1s/step - loss: 1.1082 - categorical_accuracy: 0.7237 - top_3_accuracy: 0.8797\n",
            "Model saved in model_57\n",
            "Epoch 59/120\n",
            "150/150 [==============================] - 181s 1s/step - loss: 1.1063 - categorical_accuracy: 0.7211 - top_3_accuracy: 0.8784\n",
            "Model saved in model_58\n",
            "Epoch 60/120\n",
            "150/150 [==============================] - 181s 1s/step - loss: 1.1201 - categorical_accuracy: 0.7195 - top_3_accuracy: 0.8763\n",
            "Model saved in model_59\n",
            "Epoch 61/120\n",
            "150/150 [==============================] - 181s 1s/step - loss: 1.1089 - categorical_accuracy: 0.7218 - top_3_accuracy: 0.8778\n",
            "Model saved in model_60\n",
            "Epoch 62/120\n",
            "150/150 [==============================] - 181s 1s/step - loss: 1.0894 - categorical_accuracy: 0.7268 - top_3_accuracy: 0.8813\n",
            "Model saved in model_61\n",
            "Epoch 63/120\n",
            "150/150 [==============================] - 181s 1s/step - loss: 1.0847 - categorical_accuracy: 0.7278 - top_3_accuracy: 0.8810\n",
            "Model saved in model_62\n",
            "Epoch 64/120\n",
            "150/150 [==============================] - 181s 1s/step - loss: 1.0828 - categorical_accuracy: 0.7275 - top_3_accuracy: 0.8815\n",
            "Model saved in model_63\n",
            "Epoch 65/120\n",
            "150/150 [==============================] - 181s 1s/step - loss: 1.0853 - categorical_accuracy: 0.7280 - top_3_accuracy: 0.8814\n",
            "Model saved in model_64\n",
            "Epoch 66/120\n",
            "150/150 [==============================] - 181s 1s/step - loss: 1.0844 - categorical_accuracy: 0.7271 - top_3_accuracy: 0.8812\n",
            "Model saved in model_65\n",
            "Epoch 67/120\n",
            "150/150 [==============================] - 181s 1s/step - loss: 1.0693 - categorical_accuracy: 0.7319 - top_3_accuracy: 0.8835\n",
            "Model saved in model_66\n",
            "Epoch 68/120\n",
            "150/150 [==============================] - 181s 1s/step - loss: 1.0595 - categorical_accuracy: 0.7332 - top_3_accuracy: 0.8852\n",
            "Model saved in model_67\n",
            "Epoch 69/120\n",
            "150/150 [==============================] - 181s 1s/step - loss: 1.0556 - categorical_accuracy: 0.7346 - top_3_accuracy: 0.8860\n",
            "Model saved in model_68\n",
            "Epoch 70/120\n",
            "150/150 [==============================] - 181s 1s/step - loss: 1.0734 - categorical_accuracy: 0.7304 - top_3_accuracy: 0.8826\n",
            "Model saved in model_69\n",
            "Epoch 71/120\n",
            "150/150 [==============================] - 181s 1s/step - loss: 1.0751 - categorical_accuracy: 0.7328 - top_3_accuracy: 0.8836\n",
            "Model saved in model_70\n",
            "Epoch 72/120\n",
            "150/150 [==============================] - 181s 1s/step - loss: 1.0733 - categorical_accuracy: 0.7289 - top_3_accuracy: 0.8837\n",
            "Model saved in model_71\n",
            "Epoch 73/120\n",
            "150/150 [==============================] - 181s 1s/step - loss: 1.0687 - categorical_accuracy: 0.7311 - top_3_accuracy: 0.8853\n",
            "Model saved in model_72\n",
            "Epoch 74/120\n",
            "150/150 [==============================] - 181s 1s/step - loss: 1.0530 - categorical_accuracy: 0.7306 - top_3_accuracy: 0.8863\n",
            "Model saved in model_73\n",
            "Epoch 75/120\n",
            "150/150 [==============================] - 181s 1s/step - loss: 1.0648 - categorical_accuracy: 0.7300 - top_3_accuracy: 0.8846\n",
            "Model saved in model_74\n",
            "Epoch 76/120\n",
            "150/150 [==============================] - 181s 1s/step - loss: 1.0428 - categorical_accuracy: 0.7369 - top_3_accuracy: 0.8864\n",
            "Model saved in model_75\n",
            "Epoch 77/120\n",
            "150/150 [==============================] - 181s 1s/step - loss: 1.0526 - categorical_accuracy: 0.7342 - top_3_accuracy: 0.8853\n",
            "Model saved in model_76\n",
            "Epoch 78/120\n",
            "150/150 [==============================] - 181s 1s/step - loss: 1.0464 - categorical_accuracy: 0.7360 - top_3_accuracy: 0.8865\n",
            "Model saved in model_77\n",
            "Epoch 79/120\n",
            "150/150 [==============================] - 181s 1s/step - loss: 1.0399 - categorical_accuracy: 0.7362 - top_3_accuracy: 0.8892\n",
            "Model saved in model_78\n",
            "Epoch 80/120\n",
            "150/150 [==============================] - 181s 1s/step - loss: 1.0444 - categorical_accuracy: 0.7366 - top_3_accuracy: 0.8884\n",
            "Model saved in model_79\n",
            "Epoch 81/120\n",
            "150/150 [==============================] - 181s 1s/step - loss: 1.0378 - categorical_accuracy: 0.7352 - top_3_accuracy: 0.8881\n",
            "Model saved in model_80\n",
            "Epoch 82/120\n",
            "150/150 [==============================] - 181s 1s/step - loss: 1.0369 - categorical_accuracy: 0.7390 - top_3_accuracy: 0.8885\n",
            "Model saved in model_81\n",
            "Epoch 83/120\n",
            "150/150 [==============================] - 181s 1s/step - loss: 1.0432 - categorical_accuracy: 0.7367 - top_3_accuracy: 0.8872\n",
            "Model saved in model_82\n",
            "Epoch 84/120\n",
            "150/150 [==============================] - 181s 1s/step - loss: 1.0297 - categorical_accuracy: 0.7399 - top_3_accuracy: 0.8891\n",
            "Model saved in model_83\n",
            "Epoch 85/120\n",
            "150/150 [==============================] - 181s 1s/step - loss: 1.0282 - categorical_accuracy: 0.7400 - top_3_accuracy: 0.8889\n",
            "Model saved in model_84\n",
            "Epoch 86/120\n",
            "150/150 [==============================] - 181s 1s/step - loss: 1.0435 - categorical_accuracy: 0.7370 - top_3_accuracy: 0.8879\n",
            "Model saved in model_85\n",
            "Epoch 87/120\n",
            "150/150 [==============================] - 181s 1s/step - loss: 1.0385 - categorical_accuracy: 0.7369 - top_3_accuracy: 0.8880\n",
            "Model saved in model_86\n",
            "Epoch 88/120\n",
            "150/150 [==============================] - 181s 1s/step - loss: 1.0268 - categorical_accuracy: 0.7388 - top_3_accuracy: 0.8897\n",
            "Model saved in model_87\n",
            "Epoch 89/120\n",
            "150/150 [==============================] - 181s 1s/step - loss: 1.0281 - categorical_accuracy: 0.7414 - top_3_accuracy: 0.8904\n",
            "Model saved in model_88\n",
            "Epoch 90/120\n",
            "150/150 [==============================] - 181s 1s/step - loss: 1.0201 - categorical_accuracy: 0.7428 - top_3_accuracy: 0.8908\n",
            "Model saved in model_89\n",
            "Epoch 91/120\n",
            "150/150 [==============================] - 182s 1s/step - loss: 1.0223 - categorical_accuracy: 0.7394 - top_3_accuracy: 0.8903\n",
            "Model saved in model_90\n",
            "Epoch 92/120\n",
            "150/150 [==============================] - 181s 1s/step - loss: 1.0224 - categorical_accuracy: 0.7398 - top_3_accuracy: 0.8908\n",
            "Model saved in model_91\n",
            "Epoch 93/120\n",
            "150/150 [==============================] - 182s 1s/step - loss: 1.0029 - categorical_accuracy: 0.7457 - top_3_accuracy: 0.8925\n",
            "Model saved in model_92\n",
            "Epoch 94/120\n",
            "150/150 [==============================] - 182s 1s/step - loss: 1.0117 - categorical_accuracy: 0.7453 - top_3_accuracy: 0.8913\n",
            "Model saved in model_93\n",
            "Epoch 95/120\n",
            "150/150 [==============================] - 181s 1s/step - loss: 1.0180 - categorical_accuracy: 0.7411 - top_3_accuracy: 0.8918\n",
            "Model saved in model_94\n",
            "Epoch 96/120\n",
            "150/150 [==============================] - 181s 1s/step - loss: 1.0215 - categorical_accuracy: 0.7425 - top_3_accuracy: 0.8911\n",
            "Model saved in model_95\n",
            "Epoch 97/120\n",
            "150/150 [==============================] - 181s 1s/step - loss: 1.0069 - categorical_accuracy: 0.7450 - top_3_accuracy: 0.8921\n",
            "Model saved in model_96\n",
            "Epoch 98/120\n",
            "150/150 [==============================] - 181s 1s/step - loss: 1.0079 - categorical_accuracy: 0.7439 - top_3_accuracy: 0.8924\n",
            "Model saved in model_97\n",
            "Epoch 99/120\n",
            "150/150 [==============================] - 182s 1s/step - loss: 1.0094 - categorical_accuracy: 0.7439 - top_3_accuracy: 0.8918\n",
            "Model saved in model_98\n",
            "Epoch 100/120\n",
            "150/150 [==============================] - 181s 1s/step - loss: 1.0090 - categorical_accuracy: 0.7445 - top_3_accuracy: 0.8916\n",
            "Model saved in model_99\n",
            "Epoch 101/120\n",
            "150/150 [==============================] - 181s 1s/step - loss: 1.0050 - categorical_accuracy: 0.7466 - top_3_accuracy: 0.8934\n",
            "Model saved in model_100\n",
            "Epoch 102/120\n",
            "150/150 [==============================] - 181s 1s/step - loss: 1.0000 - categorical_accuracy: 0.7456 - top_3_accuracy: 0.8942\n",
            "Model saved in model_101\n",
            "Epoch 103/120\n",
            "150/150 [==============================] - 181s 1s/step - loss: 1.0004 - categorical_accuracy: 0.7439 - top_3_accuracy: 0.8950\n",
            "Model saved in model_102\n",
            "Epoch 104/120\n",
            "150/150 [==============================] - 181s 1s/step - loss: 0.9978 - categorical_accuracy: 0.7472 - top_3_accuracy: 0.8940\n",
            "Model saved in model_103\n",
            "Epoch 105/120\n",
            "150/150 [==============================] - 181s 1s/step - loss: 1.0101 - categorical_accuracy: 0.7452 - top_3_accuracy: 0.8921\n",
            "Model saved in model_104\n",
            "Epoch 106/120\n",
            "150/150 [==============================] - 182s 1s/step - loss: 0.9999 - categorical_accuracy: 0.7471 - top_3_accuracy: 0.8933\n",
            "Model saved in model_105\n",
            "Epoch 107/120\n",
            "150/150 [==============================] - 181s 1s/step - loss: 1.0139 - categorical_accuracy: 0.7444 - top_3_accuracy: 0.8906\n",
            "Model saved in model_106\n",
            "Epoch 108/120\n",
            "150/150 [==============================] - 182s 1s/step - loss: 0.9975 - categorical_accuracy: 0.7481 - top_3_accuracy: 0.8945\n",
            "Model saved in model_107\n",
            "Epoch 109/120\n",
            "150/150 [==============================] - 181s 1s/step - loss: 0.9869 - categorical_accuracy: 0.7496 - top_3_accuracy: 0.8953\n",
            "Model saved in model_108\n",
            "Epoch 110/120\n",
            "150/150 [==============================] - 181s 1s/step - loss: 0.9908 - categorical_accuracy: 0.7484 - top_3_accuracy: 0.8945\n",
            "Model saved in model_109\n",
            "Epoch 111/120\n",
            "150/150 [==============================] - 181s 1s/step - loss: 0.9820 - categorical_accuracy: 0.7500 - top_3_accuracy: 0.8957\n",
            "Model saved in model_110\n",
            "Epoch 112/120\n",
            "150/150 [==============================] - 182s 1s/step - loss: 0.9944 - categorical_accuracy: 0.7468 - top_3_accuracy: 0.8944\n",
            "Model saved in model_111\n",
            "Epoch 113/120\n",
            "150/150 [==============================] - 181s 1s/step - loss: 0.9775 - categorical_accuracy: 0.7519 - top_3_accuracy: 0.8968\n",
            "Model saved in model_112\n",
            "Epoch 114/120\n",
            "150/150 [==============================] - 182s 1s/step - loss: 1.0014 - categorical_accuracy: 0.7466 - top_3_accuracy: 0.8943\n",
            "Model saved in model_113\n",
            "Epoch 115/120\n",
            "150/150 [==============================] - 181s 1s/step - loss: 0.9820 - categorical_accuracy: 0.7495 - top_3_accuracy: 0.8973\n",
            "Model saved in model_114\n",
            "Epoch 116/120\n",
            "150/150 [==============================] - 181s 1s/step - loss: 0.9774 - categorical_accuracy: 0.7520 - top_3_accuracy: 0.8971\n",
            "Model saved in model_115\n",
            "Epoch 117/120\n",
            "150/150 [==============================] - 181s 1s/step - loss: 0.9856 - categorical_accuracy: 0.7490 - top_3_accuracy: 0.8945\n",
            "Model saved in model_116\n",
            "Epoch 118/120\n",
            "150/150 [==============================] - 182s 1s/step - loss: 0.9854 - categorical_accuracy: 0.7508 - top_3_accuracy: 0.8959\n",
            "Model saved in model_117\n",
            "Epoch 119/120\n",
            "150/150 [==============================] - 182s 1s/step - loss: 0.9741 - categorical_accuracy: 0.7519 - top_3_accuracy: 0.8970\n",
            "Model saved in model_118\n",
            "Epoch 120/120\n",
            "150/150 [==============================] - 182s 1s/step - loss: 0.9761 - categorical_accuracy: 0.7537 - top_3_accuracy: 0.8971\n",
            "Model saved in model_119\n"
          ],
          "name": "stdout"
        },
        {
          "output_type": "execute_result",
          "data": {
            "text/plain": [
              "<keras.callbacks.History at 0x7ff69ae706d0>"
            ]
          },
          "metadata": {
            "tags": []
          },
          "execution_count": 53
        }
      ]
    },
    {
      "metadata": {
        "id": "XYTM6uQJRNW7",
        "colab_type": "text"
      },
      "cell_type": "markdown",
      "source": [
        "# Score test set"
      ]
    },
    {
      "metadata": {
        "ExecuteTime": {
          "end_time": "2018-11-07T12:18:38.307707Z",
          "start_time": "2018-11-07T12:18:34.929466Z"
        },
        "id": "YDb6QdDiRNW8",
        "colab_type": "code",
        "outputId": "78940c7f-1d7e-4ba4-c7dd-0c978c183109",
        "colab": {
          "base_uri": "https://localhost:8080/",
          "height": 68
        }
      },
      "cell_type": "code",
      "source": [
        "# download test set\n",
        "! KAGGLE_USERNAME=aqualtis KAGGLE_KEY=205947ed5e69caaa7393c44ede3ccbac kaggle competitions download -c quickdraw-doodle-recognition -f test_simplified.csv"
      ],
      "execution_count": 0,
      "outputs": [
        {
          "output_type": "stream",
          "text": [
            "Downloading test_simplified.csv to /content\n",
            " 87% 51.0M/59.0M [00:00<00:00, 61.8MB/s]\n",
            "100% 59.0M/59.0M [00:00<00:00, 116MB/s] \n"
          ],
          "name": "stdout"
        }
      ]
    },
    {
      "metadata": {
        "ExecuteTime": {
          "end_time": "2018-11-07T16:25:30.169624Z",
          "start_time": "2018-11-07T16:25:30.148875Z"
        },
        "id": "_k-1IyhPRNXF",
        "colab_type": "code",
        "colab": {}
      },
      "cell_type": "code",
      "source": [
        "def test_csv_iterator(batch_size):\n",
        "    with open(\"test_simplified.csv\", \"r\") as f:\n",
        "        batch_keys = []\n",
        "        batch_images = []\n",
        "        f.readline()  # skip header\n",
        "        for line in csv.reader(f, delimiter=',', quotechar='\"'):\n",
        "            batch_keys.append(line[0])\n",
        "            batch_images.append(draw_it(line[2]))\n",
        "            if len(batch_images) == batch_size:\n",
        "                batch_images = np.stack(batch_images, axis=0)\n",
        "                batch_images = np.expand_dims(batch_images, -1)\n",
        "                batch_images = batch_images.astype('float32')\n",
        "                ### YOUR CODE HERE: normalize batch_images the same way as during training!\n",
        "                batch_images = batch_images / 255.0 - 0.5\n",
        "\n",
        "                yield batch_keys, batch_images\n",
        "                batch_keys = []\n",
        "                batch_images = []\n",
        "        if batch_images:  # last batch\n",
        "            batch_images = np.stack(batch_images, axis=0)\n",
        "            batch_images = np.expand_dims(batch_images, -1)\n",
        "            batch_images = batch_images.astype('float32')\n",
        "            ### YOUR CODE HERE: normalize batch_images the same way as during training!\n",
        "            batch_images = batch_images / 255.0 - 0.5\n",
        "\n",
        "            yield batch_keys, batch_images"
      ],
      "execution_count": 0,
      "outputs": []
    },
    {
      "metadata": {
        "ExecuteTime": {
          "end_time": "2018-11-07T16:25:32.406415Z",
          "start_time": "2018-11-07T16:25:32.203842Z"
        },
        "id": "D-yWxm84RNXK",
        "colab_type": "code",
        "outputId": "c29513c3-6e4c-4ba1-decc-88d471db47c3",
        "colab": {
          "base_uri": "https://localhost:8080/",
          "height": 34
        }
      },
      "cell_type": "code",
      "source": [
        "! wc -l test_simplified.csv"
      ],
      "execution_count": 0,
      "outputs": [
        {
          "output_type": "stream",
          "text": [
            "112200 test_simplified.csv\n"
          ],
          "name": "stdout"
        }
      ]
    },
    {
      "metadata": {
        "ExecuteTime": {
          "end_time": "2018-11-07T16:26:30.259083Z",
          "start_time": "2018-11-07T16:25:32.579734Z"
        },
        "scrolled": true,
        "id": "wOHI2GmJRNXQ",
        "colab_type": "code",
        "outputId": "dd273da3-0908-4a67-d14b-e7cb659c80c7",
        "colab": {
          "base_uri": "https://localhost:8080/",
          "height": 34
        }
      },
      "cell_type": "code",
      "source": [
        "with open(\"submission.csv\", \"w\", buffering=1*1024*1024) as f:\n",
        "    f.write(\"key_id,word\\n\")\n",
        "    for batch_keys, batch_images in tqdm.tqdm(test_csv_iterator(BATCH_SIZE), total=np.ceil(112200./BATCH_SIZE)):\n",
        "        probas = model.predict_proba(batch_images, BATCH_SIZE)\n",
        "        top_3_classes = np.argsort(probas, axis=1)[:, [-1, -2, -3]]\n",
        "        labels = map(lambda x: \" \".join(\"_\".join(class_labels[idx].split()) for idx in x), top_3_classes)\n",
        "        for key, labels in zip(batch_keys, labels):\n",
        "            f.write(key + \",\" + labels + \"\\n\")"
      ],
      "execution_count": 0,
      "outputs": [
        {
          "output_type": "stream",
          "text": [
            "100%|██████████| 439/439.0 [02:59<00:00,  1.85it/s]\n"
          ],
          "name": "stderr"
        }
      ]
    },
    {
      "metadata": {
        "ExecuteTime": {
          "end_time": "2018-11-07T16:27:51.293010Z",
          "start_time": "2018-11-07T16:27:51.111607Z"
        },
        "id": "8GF6oq14RNXY",
        "colab_type": "code",
        "outputId": "b075e7d4-46fc-4710-9fd8-530d152944e7",
        "colab": {
          "base_uri": "https://localhost:8080/",
          "height": 34
        }
      },
      "cell_type": "code",
      "source": [
        "! wc -l submission.csv"
      ],
      "execution_count": 0,
      "outputs": [
        {
          "output_type": "stream",
          "text": [
            "112200 submission.csv\n"
          ],
          "name": "stdout"
        }
      ]
    },
    {
      "metadata": {
        "ExecuteTime": {
          "end_time": "2018-11-07T13:18:12.630549Z",
          "start_time": "2018-11-07T13:17:59.689315Z"
        },
        "id": "wwDkbNJsRNXh",
        "colab_type": "code",
        "outputId": "58980d49-ada7-4423-8c58-3ace0242f21a",
        "colab": {
          "base_uri": "https://localhost:8080/",
          "height": 51
        }
      },
      "cell_type": "code",
      "source": [
        "# submit to kaggle\n",
        "! KAGGLE_USERNAME=aqualtis KAGGLE_KEY=205947ed5e69caaa7393c44ede3ccbac kaggle competitions submit quickdraw-doodle-recognition -f submission.csv -m \"My precious\""
      ],
      "execution_count": 0,
      "outputs": [
        {
          "output_type": "stream",
          "text": [
            "100% 4.41M/4.41M [00:04<00:00, 982kB/s]\n",
            "Successfully submitted to Quick, Draw! Doodle Recognition Challenge"
          ],
          "name": "stdout"
        }
      ]
    },
    {
      "metadata": {
        "id": "QFoD7hxrPiP3",
        "colab_type": "code",
        "colab": {}
      },
      "cell_type": "code",
      "source": [
        ""
      ],
      "execution_count": 0,
      "outputs": []
    }
  ]
}